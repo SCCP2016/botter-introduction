{
 "cells": [
  {
   "cell_type": "markdown",
   "metadata": {},
   "source": [
    "# §3. DOMを扱おう"
   ]
  },
  {
   "cell_type": "markdown",
   "metadata": {},
   "source": [
    "## §3-1. DOMとは\n",
    "\n",
    "**DOM**(Document Object Model)とは、HTMLの各要素に動的にアクセスする仕組み(API)のことです。Web上で実行できるJavaScriptなど言語からDOMを扱い、属性の値や要素の内容を取得・変更することが出来ます。HTMLは、以下のようなツリー構造をなしています。ツリー構造は、ノード（節点、頂点）とノード間を結ぶエッジ（枝、辺）あるいはリンクで表される。HTMLにおけるツリーを**DOMツリー**と呼びます。DOMツリーにある*html* 要素やテキストなどの各々は、すべて**ノード**として扱われます。ノードは要素より広い概念で、コメントや段落中のテキストもノードと呼ばれます。ノードには親子関係があり、*body* は、*p* の親ノードであり、反対に *p* は *body* の子ノードです。ツリー構造には、必ず親を持たない最上位のノード、根ノード(root node)が存在します。DOMツリーにおける根ノードは、*html*ノードです。すべてのノードは、htmlから辿ることが出来ます。一方、子を持たないノードを葉ノード(leaf node)と呼びます。\n",
    "\n",
    "~HTML~\n",
    "\n",
    "```html\n",
    "<html>\n",
    "  <head>\n",
    "    <meta>\n",
    "    <title>タイトルテキスト</title>\n",
    "  </head>\n",
    "  <body>\n",
    "    <p>テキスト</p>\n",
    "  </body>\n",
    "</html>\n",
    "```\n",
    "\n",
    "~DOMツリー~\n",
    "\n",
    "```html\n",
    "<html>\n",
    "├── <head>\n",
    "│   ├── <meta>\n",
    "│   └── <title>\n",
    "|       └── タイトルテキスト\n",
    "└── <body>\n",
    "    └── <p>\n",
    "        └── テキスト\n",
    "```"
   ]
  },
  {
   "cell_type": "markdown",
   "metadata": {},
   "source": [
    "## §3-2. DOM API\n",
    "\n",
    "JavaScriptは、DOMを操作するための関数・オブジェクト群(DOM API)を提供しています。具体的には、ある要素を特定するためのメソッド・特定した子ノードのHTML構文を取得・設定するプロパティ・要素を生成するメソッドなどを提供しています。DOMを操作するメソッドの殆どは、*document*オブジェクトより提供されています。以降に、よく使用されるAPIを以下に列挙していきます。"
   ]
  },
  {
   "cell_type": "markdown",
   "metadata": {},
   "source": [
    "### document.getElementById\n",
    "\n",
    "HTML文書全体から、指定された識別子(ID)をもつ要素を取得するメソッドです。\n",
    "\n",
    "#### 構文\n",
    "\n",
    "```javascript\n",
    "// 識別子に\"myID\"と指定している要素を取得する。\n",
    "var myIdElement = document.getElementById(\"myId\");\n",
    "// <div id=\"myId\"></div>\n",
    "```"
   ]
  },
  {
   "cell_type": "markdown",
   "metadata": {},
   "source": [
    "### element.getElementsByClassName\n",
    "\n",
    "指定されたクラス名をもつ要素をすべて取得するメソッドです。\n",
    "\n",
    "#### 構文\n",
    "\n",
    "```javascript\n",
    "// HTML文書全体から、クラス名に\"example\"と指定している全ての要素を取得する\n",
    "var examples = document.getElementsByClassName(\"example\");\n",
    "// [\n",
    "//   <div class=\"example\">hoge</div>,\n",
    "//   <p class=\"example\">foo</p> \n",
    "// ]\n",
    "```"
   ]
  },
  {
   "cell_type": "markdown",
   "metadata": {},
   "source": [
    "### document.createElement\n",
    "\n",
    "指定したノードを生成します。\n",
    "\n",
    "#### 構文\n",
    "\n",
    "```javascript\n",
    "// <p>要素ノードを生成し、paragraphに代入する\n",
    "var paragraph = document.createElement(\"p\");\n",
    "// <p></p>\n",
    "```"
   ]
  },
  {
   "cell_type": "markdown",
   "metadata": {},
   "source": [
    "### document.createTextNode\n",
    "\n",
    "指定されたテキストノードを生成するメソッドです。\n",
    "\n",
    "#### 構文\n",
    "\n",
    "```javascript\n",
    "var textNode = document.createTextNode(\"テキストの例\");\n",
    "// テキストの例\n",
    "```"
   ]
  },
  {
   "cell_type": "markdown",
   "metadata": {},
   "source": [
    "### element.appendChild\n",
    "\n",
    "子ノードに、指定したノードを追加するメソッドです。\n",
    "\n",
    "#### 構文\n",
    "\n",
    "```javascript\n",
    "var paragraph = document.createElement(\"p\");\n",
    "var textNode = document.createTextNode(\"テキストの例\");\n",
    "// paragraphの子ノードとして、textNodeを追加する\n",
    "paragraph.appendChild(textNode);\n",
    "// <p>テキストの例</p>\n",
    "\n",
    "var myIdElement = document.getElementById(\"myId\");\n",
    "// div#myId の子ノードとして、paragraphを追加する。(テキストだけでなく、要素も追加出来る。)\n",
    "myIdElement.appendChild(paragraph);\n",
    "// <div id=\"myId\">\n",
    "//   <p>テキストの例</p>\n",
    "// </div>\n",
    "```"
   ]
  },
  {
   "cell_type": "markdown",
   "metadata": {},
   "source": [
    "### element.innerHTML\n",
    "\n",
    "子ノードのHTML構文を取得・設定するためのプロパティです。\n",
    "\n",
    "#### 構文\n",
    "\n",
    "```javascript\n",
    "// elementの子ノードのすべてのノードを読み取り、文字列としてHTMLのコードを受け取る\n",
    "var paragraphText = paragraph.innerHTML;\n",
    "// テキストの例\n",
    "var myIdChildText = myIdElement.innerHTML;\n",
    "// <p>テキストの例</p>\n",
    "\n",
    "// paragraphの子ノードに、テキストを設定する。\n",
    "paragraph.innerHTML = \"別なテキスト\";\n",
    "// <p>別なテキスト</p>\n",
    "\n",
    "// myIdElementの子ノードに、見出しを設定する。\n",
    "myIdElement.innerHTML = '<h1 id=\"title\">Title</h1>';\n",
    "// <div id=\"myId\">\n",
    "//   <h1 id=\"title\">Title</h1>\n",
    "// </div>\n",
    "\n",
    "// myIdElementの子ノードを削除(空白を設定する)。\n",
    "myIdElement.innerHTML = \"\";\n",
    "// myIdElement.textContent = null; でも可\n",
    "// <div id=\"myId\"></div>\n",
    "\n",
    "```"
   ]
  },
  {
   "cell_type": "markdown",
   "metadata": {},
   "source": [
    "例を通して、実際にDOM APIを使ってみましょう。"
   ]
  },
  {
   "cell_type": "markdown",
   "metadata": {},
   "source": [
    "### 例の前に\n",
    "\n",
    "Chapter2では、フロントJSを記述する際に、*script*タグを使用してHTMLファイルに直接記述する方法を紹介しました。しかし、HTMLファイルは構造を単純に保つために、あくまで文書を記述するためだけの用途に留めた方が好ましいです。また、テキストエディタによるJavaScriptのサポートも得ることが出来ます。HTMLとJavaScriptを分離するには、拡張子を*js*とした、JSファイルをscriptタグから呼び出す形で記述します。\n",
    "\n",
    "```\n",
    ".\n",
    "├── index.html\n",
    "└── main.js\n",
    "```\n",
    "\n",
    "~index.html (一部抜粋) ~\n",
    "\n",
    "```html\n",
    "<body>\n",
    "  <script type=\"text/javascript\" src\"./main.js\"></script>\n",
    "</body>\n",
    "```"
   ]
  },
  {
   "cell_type": "markdown",
   "metadata": {},
   "source": [
    "### 例3-1\n",
    "\n",
    "innerHTMLを用いて、*p* 要素の内容を消してみましょう。"
   ]
  },
  {
   "cell_type": "markdown",
   "metadata": {},
   "source": [
    "~/sccp/web/sample3-1.html\n",
    "\n",
    "```html\n",
    "<!DOCTYPE html>\n",
    "<html lang=\"en\">\n",
    "\n",
    "<head>\n",
    "    <meta charset=\"UTF-8\">\n",
    "    <title>Access DOM API Sample</title>\n",
    "</head>\n",
    "\n",
    "<body>\n",
    "    <p id=\"message\">Hello, world</p>\n",
    "    <script type=\"text/javascript\" src=\"./sample3-1.js\"></script>\n",
    "</body>\n",
    "\n",
    "</html>\n",
    "```"
   ]
  },
  {
   "cell_type": "markdown",
   "metadata": {},
   "source": [
    "~/sccp/web/sample3-1.js\n",
    "\n",
    "```javascript\n",
    "var paragraph = document.getElementById(\"message\");\n",
    "paragraph.innerHTML = \"\";\n",
    "```"
   ]
  },
  {
   "cell_type": "markdown",
   "metadata": {},
   "source": [
    "~JavaScriptが実行される前~\n",
    "\n",
    "```html\n",
    "<p id=\"message\">Hello, world</p>\n",
    "```\n",
    "\n",
    "~JavaScriptが実行された後~\n",
    "\n",
    "```html\n",
    "<p id=\"message\"></p>\n",
    "```"
   ]
  },
  {
   "cell_type": "markdown",
   "metadata": {},
   "source": [
    "### 例3-2\n",
    "\n",
    "文字列を表示させてみましょう。以下のHTMLは、*~/sccp/web/sample3-1.html* の *body* 要素内を変更したものです。"
   ]
  },
  {
   "cell_type": "markdown",
   "metadata": {},
   "source": [
    "~/sccp/web/sample3-2.html (抜粋)\n",
    "\n",
    "```html\n",
    "<script type=\"text/javascript\" src=\"./sample3-2.js\"></script>\n",
    "```"
   ]
  },
  {
   "cell_type": "markdown",
   "metadata": {},
   "source": [
    "~/sccp/web/sample3-2.js\n",
    "\n",
    "```javascript\n",
    "var paragraph = document.createElement(\"h1\");\n",
    "var content = document.createTextNode(\"Hello, world\");\n",
    "paragraph.appendChild(content);\n",
    "// bodyタグは、documentオブジェクトから参照できる。\n",
    "document.body.appendChild(paragraph);\n",
    "```"
   ]
  },
  {
   "cell_type": "markdown",
   "metadata": {},
   "source": [
    "~JavaScriptが実行される前~\n",
    "\n",
    "```html\n",
    "<body>\n",
    "<p id=\"message\">Hello, world</p>\n",
    "<script type=\"text/javascript\" src=\"./sample3-1.js\"></script>\n",
    "</body>\n",
    "```\n",
    "\n",
    "~JavaScriptが実行された後~\n",
    "\n",
    "```html\n",
    "<body>\n",
    "<p id=\"message\">Hello, world</p>\n",
    "<script type=\"text/javascript\" src=\"./sample3-1.js\"></script>\n",
    "<h1>Hello, World</h1>\n",
    "</body>\n",
    "```"
   ]
  },
  {
   "cell_type": "markdown",
   "metadata": {},
   "source": [
    "### 例3-3\n",
    "\n",
    "複数の文字列を*p*要素を使って表示しましょう。"
   ]
  },
  {
   "cell_type": "markdown",
   "metadata": {},
   "source": [
    "<p style=\"padding-left: 10px\"><em>~/sccp/web/sample3-3.html (抜粋)</em></p>\n",
    "```html\n",
    "<div id=\"messages\"></div>\n",
    "<script src=\"https://cdnjs.cloudflare.com/ajax/libs/immutable/3.8.1/immutable.min.js\"></script>\n",
    "<script type=\"text/javascript\" src=\"./sample3-3.js\"></script>\n",
    "```"
   ]
  },
  {
   "cell_type": "markdown",
   "metadata": {},
   "source": [
    "~/sccp/web/sample3-3.js\n",
    "\n",
    "```javascript\n",
    "// <p>text</p> のノードを作るための関数。\n",
    "function createParagraph(text) {\n",
    "    var paragraph = document.createElement(\"p\");\n",
    "    var textNode = document.createTextNode(text);\n",
    "    paragraph.appendChild(textNode);\n",
    "    return paragraph;\n",
    "}\n",
    "\n",
    "var messageTexts = Immutable.List([\"Hello.\", \"How are you?\", \"I'm Fine!\"]);\n",
    "\n",
    "var messages = document.getElementById(\"messages\");\n",
    "\n",
    "// \"Hello.\" - (createParagraph) -> <p>Hello.</p> - (append) -> \n",
    "// <div id=\"messages\">\n",
    "//   <p>Hello.</p>\n",
    "// </div>\n",
    "messageTexts.map(createParagraph).forEach(function (message) {\n",
    "    messages.appendChild(message);\n",
    "});\n",
    "```"
   ]
  },
  {
   "cell_type": "markdown",
   "metadata": {},
   "source": [
    "~JavaScriptが実行される前~\n",
    "\n",
    "```html\n",
    "<div id=\"messages\"></div>\n",
    "```\n",
    "\n",
    "~JavaScriptが実行された後~\n",
    "\n",
    "```html\n",
    "<div id=\"messages\">\n",
    "    <p>Hello.</p>\n",
    "    <p>How are you?</p>\n",
    "</div>\n",
    "```"
   ]
  },
  {
   "cell_type": "markdown",
   "metadata": {},
   "source": [
    "## §3のチェックポイント\n",
    "\n",
    "- ツリー構造とは何か。\n",
    "- DOMとは何か。\n",
    "- HTMLファイルとJavaScriptファイルを分ける理由は何か。"
   ]
  },
  {
   "cell_type": "markdown",
   "metadata": {},
   "source": [
    "## 演習3\n",
    "\n",
    "> 本演習課題では、HTMLファイルとJSファイルの2種類を作成する。両方のファイルが作成できたら、実行例と同様の結果が表示されているかを確認し、Firefoxの開発ツールを用いてエラーが起きていないかを確認せよ。"
   ]
  },
  {
   "cell_type": "markdown",
   "metadata": {},
   "source": [
    "### 演習3-1\n",
    "\n",
    "以下のHTMLの *p#passage* に対して、テキストの文字数( *p#count* )を表示するJavaScriptファイルを作成せよ。"
   ]
  },
  {
   "cell_type": "markdown",
   "metadata": {},
   "source": [
    "~/sccp/web/ex-3-1.html\n",
    "\n",
    "```html\n",
    "<!DOCTYPE html>\n",
    "<html lang=\"ja\">\n",
    "\n",
    "<head>\n",
    "    <meta charset=\"UTF-8\">\n",
    "    <title>演習課題</title>\n",
    "</head>\n",
    "\n",
    "<body>\n",
    "    <p id=\"passage\">そのころわたくしは、モリーオ市の博物局に勤めて居りました。十八等官でしたから役所のなかでも、ずうっと下の方でしたし俸給ほうきゅうもほんのわずかでしたが、受持ちが標本の採集や整理で生れ付き好きなことでしたから、わたくしは毎日ずいぶん愉快にはたらきました。殊にそのころ、モリーオ市では競馬場を植物園に拵こしらえ直すというので、その景色のいいまわりにアカシヤを植え込んだ広い地面が、切符売場や信号所の建物のついたまま、わたくしどもの役所の方へまわって来たものですから、わたくしはすぐ宿直という名前で月賦で買った小さな蓄音器と二十枚ばかりのレコードをもって、その番小屋にひとり住むことになりました。わたくしはそこの馬を置く場所に板で小さなしきいをつけて一疋の山羊を飼いました。毎朝その乳をしぼってつめたいパンをひたしてたべ、それから黒い革のかばんへすこしの書類や雑誌を入れ、靴もきれいにみがき、並木のポプラの影法師を大股にわたって市の役所へ出て行くのでした。あのイーハトーヴォのすきとおった風、夏でも底に冷たさをもつ青いそら、うつくしい森で飾られたモリーオ市、郊外のぎらぎらひかる草の波。またそのなかでいっしょになったたくさんのひとたち、ファゼーロとロザーロ、羊飼のミーロや、顔の赤いこどもたち、地主のテーモ、山猫博士のボーガント・デストゥパーゴなど、いまこの暗い巨きな石の建物のなかで考えていると、みんなむかし風のなつかしい青い幻燈のように思われます。では、わたくしはいつかの小さなみだしをつけながら、しずかにあの年のイーハトーヴォの五月から十月までを書きつけましょう。</p>\n",
    "    <p id=\"count\"><p>\n",
    "    <script src=\"https://cdnjs.cloudflare.com/ajax/libs/immutable/3.8.1/immutable.min.js\"></script>\n",
    "    <script type=\"text/javascript\" src=\"./ex3-1.js\"></script>\n",
    "</body>\n",
    "\n",
    "</html>\n",
    "```"
   ]
  },
  {
   "cell_type": "markdown",
   "metadata": {},
   "source": [
    "~/sccp/web/ex-3-1.js\n",
    "\n",
    "```javascript\n",
    "// 以下にコードを記述\n",
    "```"
   ]
  },
  {
   "cell_type": "markdown",
   "metadata": {},
   "source": [
    "~ブラウザで表示した例~ （\"Word count is\"のあとの文字数表示は隠してある）\n",
    "\n",
    "![演習3-1の例](https://github.com/SCCP2016/botter-introduction/blob/master/img/chapter3/wordcount.png?raw=true　演習3-1の例)"
   ]
  },
  {
   "cell_type": "markdown",
   "metadata": {},
   "source": [
    "### 演習3-2\n",
    "\n",
    "次の文字列配列を逆順で、*ul*、*li*、*p*タグを使い表示せよ。ただし、奇数番目の要素は、*class=\"saki\"*、偶数番目の要素は、*class=\"miki\"*を属性に付与せよ。\n",
    "\n",
    "```javascript\n",
    "Immutable.List.of(\n",
    "\"「あなたは咲さんですか。美樹です。」\",\n",
    "\"「はい。咲と呼んでください。」\",\n",
    "\"「咲さんは柔道部員ですか。」\",\n",
    "\"「はい、そうです。」\"\n",
    ");\n",
    "\n",
    "// <ul>\n",
    "//   <li class=\"saki\"><p>「はい、そうです。」</p></li>\n",
    "//   <li class=\"miki\"><p>「咲さんは柔道部員ですか。」</p></li>\n",
    "// </ul>\n",
    "```"
   ]
  },
  {
   "cell_type": "markdown",
   "metadata": {},
   "source": [
    "~/sccp/web/ex-3-2.html\n",
    "\n",
    "```html\n",
    "<!DOCTYPE html>\n",
    "<html lang=\"ja\">\n",
    "\n",
    "<head>\n",
    "    <meta charset=\"UTF-8\">\n",
    "    <title>演習課題</title>\n",
    "</head>\n",
    "\n",
    "<body>\n",
    "    <!-- ここに会話を追加 -->\n",
    "    <div id=\"log\"></div>\n",
    "    <script src=\"https://cdnjs.cloudflare.com/ajax/libs/immutable/3.8.1/immutable.min.js\"></script>\n",
    "    <script type=\"text/javascript\" src=\"./ex3-2.js\"></script>\n",
    "</body>\n",
    "\n",
    "</html>\n",
    "```"
   ]
  },
  {
   "cell_type": "markdown",
   "metadata": {},
   "source": [
    "~/sccp/web/ex-3-2.js\n",
    "\n",
    "```javascript\n",
    "// 以下にコードを記述\n",
    "```"
   ]
  }
 ],
 "metadata": {
  "kernelspec": {
   "display_name": "NodeJS",
   "language": "javascript",
   "name": "nodejs"
  },
  "language_info": {
   "codemirror_mode": "javascript",
   "file_extension": "js",
   "mimetype": "text/javascript",
   "name": "nodejs",
   "pygments_lexer": "javascript",
   "version": "0.10"
  }
 },
 "nbformat": 4,
 "nbformat_minor": 0
}
