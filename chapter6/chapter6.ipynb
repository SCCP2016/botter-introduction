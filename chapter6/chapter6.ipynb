{
 "cells": [
  {
   "cell_type": "markdown",
   "metadata": {},
   "source": [
    "## §6. Botterを作ろう"
   ]
  },
  {
   "cell_type": "markdown",
   "metadata": {},
   "source": [
    "<p style=\"background-color: #FCE4EC; padding: 5px 10px 5px 10px; margin: 10px 2px 10px 0px; border-radius: 2px; border: 1px solid #F8BBD0;\">このセクションは、全体が演習課題となっています。今までで使った知識を動員して、一人用ツイッター(Botter)を作ってみましょう。</p>"
   ]
  },
  {
   "cell_type": "markdown",
   "metadata": {},
   "source": [
    "### Botterの仕様"
   ]
  },
  {
   "cell_type": "markdown",
   "metadata": {},
   "source": [
    "#### HTMLファイルの仕様"
   ]
  },
  {
   "cell_type": "markdown",
   "metadata": {},
   "source": [
    "一行テキストボックスと、順序なしリストを用意する。テキストボックスは、ツイートを入力するために用意する。プレースホルダーにはツイートを促す適切な文を入れる。順序なしリストは、ツイートを表示するために用意する。"
   ]
  },
  {
   "cell_type": "markdown",
   "metadata": {},
   "source": [
    "#### JSファイルの仕様"
   ]
  },
  {
   "cell_type": "markdown",
   "metadata": {},
   "source": [
    "ツイートはEnterキー(キーコードは13)で投稿できるようにする。Enterキーを押したら、テキストボックスの内容がリストに追加されて、テキストボックスから入力内容は消去される。テキストボックスに何も入力されていなかった場合は、何も処理しない。最新のツイートが順序なしリストの一番上にくるようにする。ツイートは逐次localStorageに保存し、表示する際も逐次localStorageから読み出す。"
   ]
  },
  {
   "cell_type": "markdown",
   "metadata": {},
   "source": [
    "#### その他注意事項"
   ]
  },
  {
   "cell_type": "markdown",
   "metadata": {},
   "source": [
    "正常に動作することを確認しましょう。例えば、ブラウザの開発ツールでエラーがないかの確認や、ブラウザを更新してもデータが消えないか確認しましょう。"
   ]
  },
  {
   "cell_type": "markdown",
   "metadata": {},
   "source": [
    "### 完成例"
   ]
  },
  {
   "cell_type": "markdown",
   "metadata": {},
   "source": [
    "![Botterの完成例](https://github.com/SCCP2016/botter-introduction/blob/master/img/chapter6/ex6html.png?raw=true Botterの完成例)"
   ]
  }
 ],
 "metadata": {
  "kernelspec": {
   "display_name": "NodeJS",
   "language": "javascript",
   "name": "nodejs"
  },
  "language_info": {
   "codemirror_mode": "javascript",
   "file_extension": "js",
   "mimetype": "text/javascript",
   "name": "nodejs",
   "pygments_lexer": "javascript",
   "version": "0.10"
  }
 },
 "nbformat": 4,
 "nbformat_minor": 0
}
