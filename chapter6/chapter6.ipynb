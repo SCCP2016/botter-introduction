{
 "cells": [
  {
   "cell_type": "markdown",
   "metadata": {},
   "source": [
    "## §6. Botterを作ろう"
   ]
  },
  {
   "cell_type": "markdown",
   "metadata": {},
   "source": [
    "<p style=\"background-color: #FCE4EC; padding: 5px 10px 5px 10px; margin: 10px 2px 10px 0px; border-radius: 2px; border: 1px solid #F8BBD0;\">このセクションは、全体が演習課題となっています。今までで使った知識を動員して、一人用ツイッター(Botter)を作ってみましょう。</p>"
   ]
  },
  {
   "cell_type": "markdown",
   "metadata": {},
   "source": [
    "### Botterの仕様"
   ]
  },
  {
   "cell_type": "markdown",
   "metadata": {},
   "source": [
    "#### HTMLファイルの仕様"
   ]
  },
  {
   "cell_type": "markdown",
   "metadata": {},
   "source": [
    "一行テキストボックスと、順序なしリストを用意する。\n",
    "- 一行テキストボックスは、ツイートを入力するために用意する。プレースホルダーにはツイートを促す適切な文を入れよ。\n",
    "- 順序なしリストは、ツイートを表示するために用意する。"
   ]
  },
  {
   "cell_type": "markdown",
   "metadata": {},
   "source": [
    "#### JSファイルの仕様"
   ]
  },
  {
   "cell_type": "markdown",
   "metadata": {},
   "source": [
    "ツイートを**Enter**キーで投稿できるようにする。それをlocalStorageに保存する。\n",
    "- ツイート文を入力して**Enter**キーを押したら、一行テキストボックスの内容がリストに追加されて、一行テキストボックスの内容は消去される。一行テキストボックスに何も入力されていなかった場合は、何も処理しない。\n",
    "- 最新のツイートが順序なしリストの一番上にくるようにする。ツイートは逐次localStorageに保存し、表示する際も逐次localStorageから読み出す。"
   ]
  },
  {
   "cell_type": "markdown",
   "metadata": {},
   "source": [
    "#### 注意事項"
   ]
  },
  {
   "cell_type": "markdown",
   "metadata": {},
   "source": [
    "- 正常に動作することを確認する。例えば、ブラウザを更新してもデータが消えないことを確認する。"
   ]
  },
  {
   "cell_type": "markdown",
   "metadata": {},
   "source": [
    "### 完成例"
   ]
  },
  {
   "cell_type": "markdown",
   "metadata": {},
   "source": []
  }
 ],
 "metadata": {
  "kernelspec": {
   "display_name": "NodeJS",
   "language": "javascript",
   "name": "nodejs"
  },
  "language_info": {
   "codemirror_mode": "javascript",
   "file_extension": "js",
   "mimetype": "text/javascript",
   "name": "nodejs",
   "pygments_lexer": "javascript",
   "version": "0.10"
  }
 },
 "nbformat": 4,
 "nbformat_minor": 0
}
