{
 "cells": [
  {
   "cell_type": "markdown",
   "metadata": {
    "collapsed": false
   },
   "source": [
    "## §1. HTMLとは何か"
   ]
  },
  {
   "cell_type": "markdown",
   "metadata": {
    "collapsed": false
   },
   "source": [
    "### §1-1. HTMLとは"
   ]
  },
  {
   "cell_type": "markdown",
   "metadata": {
    "collapsed": false
   },
   "source": [
    "私たちが、普段見ているWebページは、HTMLという言語によって書かれています。HTMLは、科学的な分野で**文書(document)**を論理的に記述するための言語として開発されました。文書を論理的に記述するためには、適切な見出し、段落、表、リストなどが必要です。HTMLはこれらの要素をサポートしています。HTMLはHyper Text Markup Languageの略で、**ハイパーテキスト**の仕組みが存在する**マークアップ言語**です。ハイパーテキストとは、複数の文書どうしを関連付ける仕組みのことです。HTMLでは、この仕組みを**ハイパーリンク**を用いることで実現しています。ハイパーリンクは単に**リンク**とも呼ばれ、クリックすることでWebページから別のWebページに遷移することができます。マークアップ言語とは、視覚表現や文書構造などを記述するための形式言語です。HTMLは、以下のコードのように書かれていて、ファイルの拡張子は*.html*です。"
   ]
  },
  {
   "cell_type": "markdown",
   "metadata": {},
   "source": [
    "<p style=\"padding-left: 10px\"><em>sample1-1.html</em></p>\n",
    "```html\n",
    "<!DOCTYPE html>\n",
    "<html lang=\"ja\">\n",
    "<head>\n",
    "    <meta charset=\"UTF-8\">\n",
    "    <title>HTML Sample</title>\n",
    "</head>\n",
    "<body>\n",
    "    <h1>見出し1</h1>\n",
    "    <h2>見出し2</h2>\n",
    "    <h3>見出し3</h3>\n",
    "    <p>段落</p>\n",
    "    <h3>見出し3</h3>\n",
    "    <p>段落</p>\n",
    "</body>\n",
    "</html>\n",
    "```"
   ]
  },
  {
   "cell_type": "markdown",
   "metadata": {},
   "source": [
    "HTMLファイルをブラウザで表示させてみましょう。*sample1-1.html* のコードをEmacsエディタに貼り付けて保存します。firefoxで開きます。ターミナル上で、\n",
    "> $ firefox sample1-1.html\n",
    "\n",
    "と入力することでファイルを開くことができます。今後、この手順でHTMLを表示していきます。以下のように表示されれば成功です。"
   ]
  },
  {
   "cell_type": "markdown",
   "metadata": {},
   "source": [
    "![ex1-1.htmlの表示例](https://github.com/motxx/botter-text/blob/master/images/ex-first-html.png?raw=true)"
   ]
  },
  {
   "cell_type": "markdown",
   "metadata": {},
   "source": [
    "開発された当初の科学的な分野での利用の範囲を超えて、より一般的にHTML文書が書かれるようになり、それに伴いHTMLの仕様と、それを表示するブラウザも度々更新されてきました。\n",
    "- HTML1.0, HTML+\n",
    "- HTML2.0\n",
    "- HTML3.0, HTML3.2\n",
    "- HTML4.0, HTML4.01\n",
    "- HTML5<!--, HTML5.1, HTML Living Standard 冗長として消した-->\n",
    "\n",
    "現行の仕様は**HTML5**に沿って書かれています。本課外プロジェクトでも、HTML5の仕様を元に進めていきます。"
   ]
  },
  {
   "cell_type": "markdown",
   "metadata": {},
   "source": [
    "### §1-2. HTMLの基本構文"
   ]
  },
  {
   "cell_type": "markdown",
   "metadata": {},
   "source": [
    "##### DOCTYPE宣言\n",
    "HTMLは、**DOCTYPE宣言**を書くことから始めます。DOCTYPE宣言によって、**HTMLがどのバージョンのものか**を明確にしています。HTML5であることを示すには、以下のように書きます。\n",
    "```html\n",
    "<!DOCTYPE html>\n",
    "```\n",
    "#1 HTML4.01のDOCTYPE宣言\n",
    "\n",
    "ちなみに、HTML4.01のときは、次のようなDOCTYPE宣言がされていました。\n",
    "```html\n",
    "<!DOCTYPE HTML PUBLIC \"-//W3C//DTD HTML 4.01 Transitional//EN\" \"http://www.w3.org/TR/html4/loose.dtd\">\n",
    "```\n",
    "HTML4.01までのDOCTYPE宣言は、その文書がどんな定義(DTD)にもとづいて書かれているかを正確に記述するために、長い表記をしていました。しかし、実際にブラウザが正確に記述を読み取っていないことや、記述されたコードが厳密に定義に沿っていないものが多く存在しました。そのため、HTML5では長い記述は不要と判断されて、シンプルな記述になりました。"
   ]
  },
  {
   "cell_type": "markdown",
   "metadata": {},
   "source": [
    "##### 要素\n",
    "HTMLは、**要素(element)**の集まりで書かれています。\n",
    "要素は、図1.2のように <span style=\"background-color: #F5F5F5; padding: 2px; margin: 2px; border-radius: 2px; border: 1px solid black;\">&lt;</span>と<span style=\"background-color: #F5F5F5; padding: 2px; margin: 2px; border-radius: 2px; border: 1px solid black;\">&gt;</span>で囲まれる**開始タグ**、<span style=\"background-color: #F5F5F5; padding: 2px; margin: 2px; border-radius: 2px; border: 1px solid black;\">&lt;/</span>と<span style=\"background-color: #F5F5F5; padding: 2px; margin: 2px; border-radius: 2px; border: 1px solid black;\">&gt;</span>で囲まれる**終了タグ**、その間の要素の内容で構成されます。要素の開始タグには**属性**を含みます。\n",
    "![要素の構成](https://github.com/motxx/botter-text/blob/master/images/ex-desc-element.png?raw=true)\n",
    "開始タグしか持たない要素も存在します。*sample1-1.html* では<span style=\"background-color: #F5F5F5; padding: 2px; margin: 2px; border-radius: 2px; border: 1px solid black;\">&lt;meta&gt;</span>要素が、終了タグを持ちません。  "
   ]
  },
  {
   "cell_type": "markdown",
   "metadata": {},
   "source": [
    "#### 例1-1"
   ]
  },
  {
   "cell_type": "markdown",
   "metadata": {},
   "source": [
    "段落を表す<span style=\"background-color: #F5F5F5; padding: 2px; margin: 2px; border-radius: 2px; border: 1px solid black;\">&lt;p&gt;</span>要素の例を見てみましょう。"
   ]
  },
  {
   "cell_type": "markdown",
   "metadata": {},
   "source": [
    "```html\n",
    "<p>あのイーハトーヴォのすきとおった風、夏でも底に冷たさをもつ青いそら、うつくしい森で飾られたモリーオ市、郊外のぎらぎらひかる草の波。</p>\n",
    "```"
   ]
  },
  {
   "cell_type": "markdown",
   "metadata": {},
   "source": [
    "ブラウザでの表示した例"
   ]
  },
  {
   "cell_type": "markdown",
   "metadata": {},
   "source": [
    "<p>あのイーハトーヴォのすきとおった風、夏でも底に冷たさをもつ青いそら、うつくしい森で飾られたモリーオ市、郊外のぎらぎらひかる草の波。</p>"
   ]
  },
  {
   "cell_type": "markdown",
   "metadata": {},
   "source": [
    "#### 例1-2"
   ]
  },
  {
   "cell_type": "markdown",
   "metadata": {},
   "source": [
    "順序なしリストを表す<span style=\"background-color: #F5F5F5; padding: 2px; margin: 2px; border-radius: 2px; border: 1px solid black;\">&lt;ul&gt;</span>要素と、その項目を表す<span style=\"background-color: #F5F5F5; padding: 2px; margin: 2px; border-radius: 2px; border: 1px solid black;\">&lt;li&gt;</span>要素の例を見てみましょう。"
   ]
  },
  {
   "cell_type": "markdown",
   "metadata": {},
   "source": [
    "```html\n",
    "<ul>\n",
    "    <li>りんご</li>\n",
    "    <li>ばなな</li>\n",
    "</ul>\n",
    "```"
   ]
  },
  {
   "cell_type": "markdown",
   "metadata": {},
   "source": [
    "ブラウザでの表示した例"
   ]
  },
  {
   "cell_type": "markdown",
   "metadata": {},
   "source": [
    "<ul>\n",
    "    <li>りんご</li>\n",
    "    <li>ばなな</li>\n",
    "</ul>"
   ]
  },
  {
   "cell_type": "markdown",
   "metadata": {},
   "source": [
    "#### 例1-3"
   ]
  },
  {
   "cell_type": "markdown",
   "metadata": {},
   "source": [
    "囲まれた文字を強調する<span style=\"background-color: #F5F5F5; padding: 2px; margin: 2px; border-radius: 2px; border: 1px solid black;\">&lt;strong&gt;</span>要素の例を見てみましょう。"
   ]
  },
  {
   "cell_type": "markdown",
   "metadata": {},
   "source": [
    "```html\n",
    "<p>HTMLは様々な<strong>要素</strong>で構成されています。</p>\n",
    "```"
   ]
  },
  {
   "cell_type": "markdown",
   "metadata": {},
   "source": [
    "ブラウザでの表示した例"
   ]
  },
  {
   "cell_type": "markdown",
   "metadata": {},
   "source": [
    "<p>HTMLは様々な<strong>要素</strong>で構成されています。</p>"
   ]
  },
  {
   "cell_type": "markdown",
   "metadata": {},
   "source": [
    "##### ブロックレベル要素とインライン要素\n",
    "要素の種類には、**ブロックレベル要素**と**インライン要素**があります。ブロックレベル要素とは、見出し、段落などのように一つのかたまりと見なされる要素です。ブロックレベル要素の中には、更に別のブロックレベル要素が含まれて大きなかたまりを作ることがあります。ブロックレベル要素には以下のようなものがあります。\n",
    "<p style=\"background-color: #E3F2FD; padding: 5px 10px 5px 10px; margin: 10px 2px 10px 0px; border-radius: 2px; border: 1px solid #64B5F6;\">&lt;head&gt;, &lt;body&gt;, &lt;h1&gt;-&lt;h6&gt;, &lt;p&gt;, &lt;div&gt;, &lt;input&gt;, ...</p>\n",
    "それに対してインライン要素とは、文中に挿入されて用いられる要素で、ブロックレベル要素の中に含まれます。     \n",
    "<p style=\"background-color: #E3F2FD; padding: 5px 10px 5px 10px; margin: 10px 2px 10px 0px; border-radius: 2px; border: 1px solid #64B5F6;\">&lt;strong&gt;, &lt;em&gt;, &lt;span&gt;, ...</p>\n",
    "インライン要素の中に、ブロックレベル要素が含まれてはいけません。\n",
    "\n",
    "正しい例\n",
    "```html\n",
    "<div><p>ブロックレベル要素の中に、<strong>インライン要素</strong>が含まれている</p></div>\n",
    "```\n",
    "間違い例\n",
    "```html\n",
    "<strong><p>インライン要素の中に、ブロックレベル要素が含まれている</p></strong>\n",
    "```"
   ]
  },
  {
   "cell_type": "markdown",
   "metadata": {},
   "source": [
    "##### コメント\n",
    "<span style=\"background-color: #F5F5F5; padding: 2px; margin: 2px; border-radius: 2px; border: 1px solid black;\">&lt;!--</span> と <span style=\"background-color: #F5F5F5; padding: 2px; margin: 2px; border-radius: 2px; border: 1px solid black;\">--&gt;</span> で囲まれた部分があります。これはコメントで、文中の好きな箇所に挿入できます。文書の構造が分かりにくいときや、文を変更したものの以前の文も残して置きたい場合に使われます。\n",
    "```html\n",
    "<p><!-- HTMLではコメントが書けます　-->HTMLでは、&lt;!-- と --&gt; で文字列を囲うことで、その部分をコメントとして扱うことができます。</p>\n",
    "```"
   ]
  },
  {
   "cell_type": "markdown",
   "metadata": {},
   "source": [
    "##### 要素の一覧\n",
    "最後に、よく使われる要素について見てみましょう。より詳しくは、[HTMLリファレンス](http://www.htmq.com/html5/index.shtml)が参考になります。\n",
    "\n",
    "|要素|属性|用途・例|\n",
    "|:--:|:--|:--|\n",
    "|**`<html>`**|lang|ルート要素と呼ばれ、&lt;head&gt;要素と&lt;body&gt;要素を含む。|\n",
    "|**`<head>`**||HTML文書に関するメタデータを集めたもの。<br>&lt;head&gt;<br>&nbsp;&nbsp;&lt;title&gt;タイトル&lt;/title&gt;<br>&nbsp;&nbsp;&lt;meta charset=\"UTF-8\"&gt;<br>&lt;/head&gt;|\n",
    "|**`<meta>`**|charset|文書のメタデータを指定する。charset属性を用いることで、文字エンコーディングの指定ができる。<br>&lt;meta charset=\"UTF-8\"&gt;|\n",
    "|**`<title>`**||ツールバーに表示する文字列を指定する。<br>&lt;title&gt;Botter&lt;/title&gt;|\n",
    "|**`<script>`**|src, type|実行するJavaScriptのソースコードを記述する。また、コードが書かれた外部ファイルを読み込むこともできる。<br>&lt;script src=\"<span>http</span>://cdnjs.cloudflare.com/ajax/libs/immutable/3.8.1/immutable.min.js\"&gt;&lt;/script&gt;<br>&lt;script type=\"text/javascript\" src=\"./main.js\"&gt;&lt;/script&gt;</script>|\n",
    "|**`<body>`**||表示するHTMLの内容を記述する。<br>&lt;body&gt;<br>&nbsp;&nbsp;&lt;h1&gt;見出し&lt;/h1&gt;<br>&nbsp;&nbsp;&lt;p&gt;本文&lt;/p&gt;<br>&lt;/body&gt;|\n",
    "|**`<div>`**||複数の要素を一つのグループにまとめる。id, classなどの汎用属性とともに使われることが多い。|\n",
    "|**`<h1>-<h6>`**||見出しを表示する。&lt;h1&gt;が最も大きい見出しで、&lt;h6&gt;まで順に小さくなる。<br>&lt;h1&gt;大見出し&lt;/h1&gt;|\n",
    "|**`<p>`**||段落(paragraph)を表示する。要素の内容に表示したいテキストを記述できる。<br>&lt;p&gt;あのイーハトーヴォのすきとおった風、夏でも底に冷たさをもつ青いそら&lt;/p&gt;|\n",
    "|**`<a>`**|href|ハイパーリンクを作る。アンカー要素とよばれる。<br>&lt;a href=\"<span>http</span>://google.com\"&gt;Google&lt;/a&gt;|\n",
    "|**`<ul>`**||順序なしリストを表示する。<br>&lt;ul&gt;<br>&nbsp;&nbsp;&nbsp;&nbsp;&lt;li&gt;りんご&lt;/li&gt;<br>&nbsp;&nbsp;&nbsp;&nbsp;&lt;li&gt;バナナ&lt;/li&gt;<br>&lt;/ul&gt;|\n",
    "|**`<li>`**||リストの項目を表示する。|\n",
    "|**`<input>`**|type, placeholder|入力のフォーム部品を表示する。<br>&lt;input type=\"text\" placeholder=\"ここにツイートを書こう\"&gt;|\n",
    "|**`<br>`**||改行を挿入する。|"
   ]
  },
  {
   "cell_type": "markdown",
   "metadata": {},
   "source": [
    "##### 要素の属性\n",
    "要素は、いくつかの**属性**を持ちます。属性に値を指定することで、要素に情報を付加することができます。要素ごとに持っている属性が決まっています。例えば<span style=\"background-color: #F5F5F5; padding: 2px; margin: 2px; border-radius: 2px; border: 1px solid black;\">&lt;a&gt;</span>要素は、<span style=\"background-color: #F5F5F5; padding: 2px; margin: 2px; border-radius: 2px; border: 1px solid black;\">href</span>や<span style=\"background-color: #F5F5F5; padding: 2px; margin: 2px; border-radius: 2px; border: 1px solid black;\">target</span>という属性を持っています。一つの要素に複数の属性の値を指定することができます。属性は以下のように開始タグの中に書いて指定します。複数指定する場合に属性の順序は関係ありません。\n",
    "<p style=\"background-color: #E3F2FD; padding: 5px 10px 5px 10px; margin: 10px 2px 10px 0px; border-radius: 2px; border: 1px solid #64B5F6;\">&lt;要素名 属性=属性値 ...&gt;要素の内容&lt;/要素名&gt;</p>\n",
    "<span style=\"background-color: #F5F5F5; padding: 2px; margin: 2px; border-radius: 2px; border: 1px solid black;\">&lt;a&gt;</span>要素であれば、\n",
    "```html\n",
    "<a href=\"http://www.google.com\" target=\"_blank\">新しいタブでGoogleを開く</a>\n",
    "```\n",
    "のように書くことができます。"
   ]
  },
  {
   "cell_type": "markdown",
   "metadata": {},
   "source": [
    "##### 汎用属性\n",
    "ほとんどの要素で使うことができる**汎用属性**と呼ばれるものがあります。主な汎用属性には以下のようなものがあります。\n",
    "\n",
    "|属性|用途|\n",
    "|:--:|:--|\n",
    "|**id**|要素に一意な識別子(ID)を指定する。スクリプトやスタイルシートから要素を特定するために使われる。|\n",
    "|**class**|複数の要素に共通のクラス名を指定する。スクリプトやスタイルシートから、同じclass属性の値をもつ要素を特定するために使われる。<br>複数のクラス名を指定することもできる。その場合、class=\"example important\"のように空白区切りで指定する。|\n",
    "|**style**|要素に直接スタイルシートを指定する。属性の値に指定することで、別の箇所で指定されたスタイルシートより優先的に適用される。|\n",
    "|**lang**|HTML文書の言語を指定する。英語であれば、**lang=\"en\"**と指定し、日本語であれば**lang=\"ja\"**と指定する。|"
   ]
  },
  {
   "cell_type": "markdown",
   "metadata": {},
   "source": [
    "#### 例1-4"
   ]
  },
  {
   "cell_type": "markdown",
   "metadata": {},
   "source": [
    "入力部品を表す<span style=\"background-color: #F5F5F5; padding: 2px; margin: 2px; border-radius: 2px; border: 1px solid black;\">&lt;input&gt;</span>要素の例を見てみましょう。**type**属性にどんな入力部品かの種類を指定することができます。"
   ]
  },
  {
   "cell_type": "markdown",
   "metadata": {},
   "source": [
    "```html\n",
    "<!-- type=\"text\" は初期値　一行テキストボックスを作成する。 -->\n",
    "<input type=\"text\">\n",
    "\n",
    "<!-- type=\"text\" にplaceholder属性を指定することもあります。 -->\n",
    "<input type=\"text\" placeholder=\"ここに入力して下さい\">\n",
    "\n",
    "<!-- type=\"button\"　汎用ボタンを作成する。value属性に指定した値がボタンの上に表示されます。 -->\n",
    "<input type=\"button\" value=\"次に進む\">\n",
    "\n",
    "<!-- type=\"radio\" ラジオボタンを作成する。複数のうちいずれか1つのみ選択できます。name属性の値を同じにすることで、同じ選択肢のグループと識別できます。checked=\"checked\"と指定することで、最初に選択されているものを決めることができます。-->\n",
    "<p>\n",
    "    <input type=\"radio\" name=\"tachiba\" checked=\"checked\">賛成\n",
    "    <input type=\"radio\" name=\"tachiba\">反対\n",
    "</p>\n",
    "```"
   ]
  },
  {
   "cell_type": "markdown",
   "metadata": {},
   "source": [
    "ブラウザでの表示した例"
   ]
  },
  {
   "cell_type": "markdown",
   "metadata": {},
   "source": [
    "<!-- type=\"text\" は初期値　一行テキストボックスを作成する。 -->\n",
    "<input type=\"text\">\n",
    "\n",
    "<!-- type=\"text\" にplaceholder属性を指定することもあります。 -->\n",
    "<input type=\"text\" placeholder=\"ここに入力して下さい\">\n",
    "\n",
    "<!-- type=\"button\"　汎用ボタンを作成する。value属性に指定した値がボタンの上に表示されます。 -->\n",
    "<input type=\"button\" value=\"次に進む\">\n",
    "\n",
    "<!-- type=\"radio\" ラジオボタンを作成する。複数のうちいずれか1つのみ選択できます。name属性の値を同じにすることで、同じ選択肢のグループと識別できます。checked=\"checked\"と指定することで、最初に選択されているものを決めることができます。-->\n",
    "<p>\n",
    "    <input type=\"radio\" name=\"tachiba\" checked=\"checked\">賛成\n",
    "    <input type=\"radio\" name=\"tachiba\">反対\n",
    "</p>"
   ]
  },
  {
   "cell_type": "markdown",
   "metadata": {},
   "source": [
    "### §1のチェックポイント"
   ]
  },
  {
   "cell_type": "markdown",
   "metadata": {},
   "source": [
    "1. 要素と属性はそれぞれどのように使うか。\n",
    "1. ブロックレベル要素とインライン要素の違いは何か。\n",
    "1. HTMLを編集するためには何を使うか。また、HTMLを表示するためには何を使うか。"
   ]
  },
  {
   "cell_type": "markdown",
   "metadata": {},
   "source": [
    "### 演習1"
   ]
  },
  {
   "cell_type": "markdown",
   "metadata": {},
   "source": [
    "一行テキストボックスを表示し、placeholder属性として「ツイート」と表示せよ。その次に、順序なしリストを表示して、複数のリスト項目を作成せよ。項目の内容は任意で良い。"
   ]
  },
  {
   "cell_type": "markdown",
   "metadata": {},
   "source": [
    "HTMLは以下のテンプレートを参考にせよ。"
   ]
  },
  {
   "cell_type": "markdown",
   "metadata": {},
   "source": [
    "```html\n",
    "<!DOCTYPE html>\n",
    "<html lang=\"ja\">\n",
    "\n",
    "<head>\n",
    "    <meta charset=\"UTF-8\">\n",
    "    <title>演習課題</title>\n",
    "</head>\n",
    "\n",
    "<body>\n",
    "    <!-- ここにHTMLを記述する -->\n",
    "    <script type=\"text/javascript\" src=\"./s12xxxxx-ex1-1.js\"></script>\n",
    "</body>\n",
    "\n",
    "</html>\n",
    "```"
   ]
  }
 ],
 "metadata": {
  "kernelspec": {
   "display_name": "NodeJS",
   "language": "javascript",
   "name": "nodejs"
  },
  "language_info": {
   "codemirror_mode": "javascript",
   "file_extension": "js",
   "mimetype": "text/javascript",
   "name": "nodejs",
   "pygments_lexer": "javascript",
   "version": "0.10"
  }
 },
 "nbformat": 4,
 "nbformat_minor": 0
}
