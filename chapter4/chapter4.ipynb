{
 "cells": [
  {
   "cell_type": "markdown",
   "metadata": {},
   "source": [
    "# §4. イベント処理"
   ]
  },
  {
   "cell_type": "markdown",
   "metadata": {},
   "source": [
    "## §4-1 イベントドリブン"
   ]
  },
  {
   "cell_type": "markdown",
   "metadata": {},
   "source": [
    "クライアントサイドJavaScriptは、**イベントドリブン型**のモデルをしています。マウス操作、キー入力、Webページの読み込みが完了したときなど、様々な動作のタイミングで、ブラウザは**イベント**を生成しています。イベントが発生する前に事前に待機しておいて、イベントが発生した際に登録しておいた処理を実行する、というモデルのことを**イベントドリブン**といいます。"
   ]
  },
  {
   "cell_type": "markdown",
   "metadata": {},
   "source": [
    "## §4-2 イベントリスナを追加する"
   ]
  },
  {
   "cell_type": "markdown",
   "metadata": {},
   "source": [
    "発生したイベントの種類を表す文字列を**イベントタイプ**や、単にイベント名といいます。マウスをクリックしたことを示す *\"click\"* や、ブラウザ読込が完了したことを示す *\"load\"* など、さまざまなイベントタイプがあります。イベントを受け取るDOMノードのことを**イベントターゲット**といいます。イベントが生成されたタイミングで実行したい関数を**イベントリスナ**、または**イベントハンドラ**といいます(関数の登録の方法によって使い分けることがあります)。以下のように記述することで、イベントリスナを登録して、イベントの発生まで関数の実行を待つことができます。"
   ]
  },
  {
   "cell_type": "markdown",
   "metadata": {},
   "source": [
    "```javascript\n",
    "EventTarget.addEventListener( イベントタイプ, イベントリスナ() )\n",
    "```"
   ]
  },
  {
   "cell_type": "markdown",
   "metadata": {},
   "source": [
    "登録したイベントリスナを削除したい場合は、次のようなメソッドを使います。"
   ]
  },
  {
   "cell_type": "markdown",
   "metadata": {},
   "source": [
    "```javascript\n",
    "EventTarget.removeEventListener( イベントタイプ, イベントリスナ() )\n",
    "```"
   ]
  },
  {
   "cell_type": "markdown",
   "metadata": {},
   "source": [
    "`removeEventListener()` の引数には、`addEventListener()` のときに使った引数と、全く同じ引数を指定します。"
   ]
  },
  {
   "cell_type": "markdown",
   "metadata": {},
   "source": [
    "ちなみに、別の関数やメソッドに引数として関数を渡すとき、引数となる関数のことを一般に**コールバック関数**と呼びます。コールバック関数を指定することで、呼び出し先の関数やメソッドの中で、指定した関数を実行してもらうことができます。上の例では、イベントリスナとして指定した関数がコールバック関数です。"
   ]
  },
  {
   "cell_type": "markdown",
   "metadata": {},
   "source": [
    "### 例4-1"
   ]
  },
  {
   "cell_type": "markdown",
   "metadata": {},
   "source": [
    "Enterキーが入力されたとき、alert()を表示させてみましょう。イベントリスナに指定した関数には、引数としてそのイベントの情報が渡されます。以下では、イベントリスナの関数の引数*e*でキー入力イベントの情報を受け取っています。Enterキーのキーコードは13なので、e.keyCode == 13の判定で入力を検知できます。"
   ]
  },
  {
   "cell_type": "markdown",
   "metadata": {},
   "source": [
    "<p style=\"padding-left: 10px\"><em>~/sccp/web/sample4-1.js</em></p>\n",
    "```javascript\n",
    "document.body.addEventListener(\"keydown\", function(e) {\n",
    "    if(e.keyCode == 13) {\n",
    "        alert(\"Enterキーが押されました\");\n",
    "    }\n",
    "});\n",
    "```"
   ]
  },
  {
   "cell_type": "markdown",
   "metadata": {},
   "source": [
    "### 例4-2"
   ]
  },
  {
   "cell_type": "markdown",
   "metadata": {},
   "source": [
    "*p* 要素の上でマウスをクリックしたとき、alert()を表示させてみましょう。"
   ]
  },
  {
   "cell_type": "markdown",
   "metadata": {},
   "source": [
    "<p style=\"padding-left: 10px\"><em>~/sccp/web/sample4-2.html (抜粋)</em></p>\n",
    "```html\n",
    "<p id=\"content\">クリックできます。</p>\n",
    "```"
   ]
  },
  {
   "cell_type": "markdown",
   "metadata": {},
   "source": [
    "<p style=\"padding-left: 10px\"><em>~/sccp/web/sample4-2.js</em></p>\n",
    "```javascript\n",
    "var paragraph = document.getElementById(\"content\");\n",
    "paragraph.addEventListener(\"click\", function() {\n",
    "    alert(\"クリックされました\");\n",
    "});\n",
    "```"
   ]
  },
  {
   "cell_type": "markdown",
   "metadata": {},
   "source": [
    "### 例4-3"
   ]
  },
  {
   "cell_type": "markdown",
   "metadata": {},
   "source": [
    "イベントリスナには、名前のある通常の関数と、無名関数のどちらでも指定することができます。コールバック関数は、名前をつけて別の箇所で使うようなことがあまりないため、無名関数が使われることが多いです。"
   ]
  },
  {
   "cell_type": "markdown",
   "metadata": {},
   "source": [
    "```javascript\n",
    "function callback_func() {\n",
    "    alert(\"キー入力を検知しました。\");\n",
    "}\n",
    "\n",
    "// あらかじめ宣言した関数の名前を指定する方法\n",
    "document.addEventListener(\"keydown\", callback_func);\n",
    "\n",
    "// 無名関数を使えば不必要に名前をつけなくて済む\n",
    "document.addEventListener(\"keydown\", function(){\n",
    "    alert(\"キー入力を検知しました。\");\n",
    "});\n",
    "```"
   ]
  },
  {
   "cell_type": "markdown",
   "metadata": {},
   "source": [
    "イベントには以下のようなものがあります。"
   ]
  },
  {
   "cell_type": "markdown",
   "metadata": {},
   "source": [
    "|イベントタイプ|発生のタイミング|\n",
    "|:-:|:-:|\n",
    "|click|クリックを検知したとき|\n",
    "|mouseover|マウスポインタがイベントターゲットに乗ったとき|\n",
    "|keydown|キーが押されたことを検知する|\n",
    "|load|Webページの読み込みがすべて完了したとき|\n",
    "|change|フォームの入力値、選択が変更されたとき|"
   ]
  },
  {
   "cell_type": "markdown",
   "metadata": {},
   "source": [
    "## §4-3 イベントハンドラを登録する別の方法と、その問題点"
   ]
  },
  {
   "cell_type": "markdown",
   "metadata": {},
   "source": [
    "イベントハンドラを登録する方法には、他に以下の2つの方法があります。"
   ]
  },
  {
   "cell_type": "markdown",
   "metadata": {},
   "source": [
    "- HTMLの属性に記述する方法\n",
    "- DOM要素のプロパティに指定する方法"
   ]
  },
  {
   "cell_type": "markdown",
   "metadata": {},
   "source": [
    "HTMLの属性には、例えば以下のように記述できます。"
   ]
  },
  {
   "cell_type": "markdown",
   "metadata": {},
   "source": [
    "```html\n",
    "<!--　HTMLの属性に記述する方法(非推奨) -->\n",
    "<button onclick=\"alert('Hello world!')\">\n",
    "```"
   ]
  },
  {
   "cell_type": "markdown",
   "metadata": {},
   "source": [
    "しかし、このような方法は用いるべきではありません。HTMLはマークアップ言語で、視覚表現や文書の論理構造を記述するために存在します。よって、HTMLの記述の中に動的な振る舞いであるJavaScriptのコードが含まれるべきではありません。"
   ]
  },
  {
   "cell_type": "markdown",
   "metadata": {},
   "source": [
    "また、以下のようにDOM要素のプロパティとして指定する方法もあります。"
   ]
  },
  {
   "cell_type": "markdown",
   "metadata": {},
   "source": [
    "```javascript\n",
    "// DOM要素のプロパティに指定する方法(非推奨)\n",
    "document.body.onclick = function(){ alert('Hello world!'); }\n",
    "```"
   ]
  },
  {
   "cell_type": "markdown",
   "metadata": {},
   "source": [
    "この記述方法は、DOM要素にイベントハンドラを最大1つまでしか登録できないという欠点があります。関数を複数登録するつもりがない場合でも、使用しているライブラリなどがプロパティを指定していれば、その情報が上書きされてしまうので避けるべきです。"
   ]
  },
  {
   "cell_type": "markdown",
   "metadata": {},
   "source": [
    "コラム：イベントに対して関数を複数指定できる場合にイベントリスナ、1つしか指定できない場合にイベントハンドラと使い分けて呼ぶ場合があります。"
   ]
  },
  {
   "cell_type": "markdown",
   "metadata": {},
   "source": [
    "## §4のチェックポイント"
   ]
  },
  {
   "cell_type": "markdown",
   "metadata": {},
   "source": [
    "1. 呼び出し先の関数で実行やメソッドの中で実行されるように、引数に指定する関数を一般に何と呼ぶか。\n",
    "1. イベントリスナには名前付きの関数以外に、どのような関数を記述することが多いか。"
   ]
  },
  {
   "cell_type": "markdown",
   "metadata": {},
   "source": [
    "## 演習4"
   ]
  },
  {
   "cell_type": "markdown",
   "metadata": {},
   "source": [
    "<p style=\"background-color: #ffebee; padding: 5px 10px 5px 10px; margin: 10px 2px 10px 0px; border-radius: 2px; border: 1px solid #ffcdd2;\">本演習課題では、HTMLファイルとJSファイルの2種類を作成する。両方のファイルが作成できたら、実行例と同様の結果が表示されているかを確認し、Firefoxの開発ツールを用いてエラーが起きていないかを確認せよ。</p>"
   ]
  },
  {
   "cell_type": "markdown",
   "metadata": {},
   "source": [
    "一行テキストボックスに入力した文字列を、順序なしリストとして表示するコードを書け。また、以下の仕様を守ること。\n",
    "- 文字列を入力してエンターキーを押すと、入力内容がリストに新しい項目として追加され、同時にテキストボックスの内容を消去される。\n",
    "- 入力内容が空文字列である場合は、エンターキーを押しても何も起きない。"
   ]
  },
  {
   "cell_type": "markdown",
   "metadata": {},
   "source": [
    "HTMLのファイル名は *ex4.html*、JavaScriptのファイル名は *ex4.js* とせよ。また、HTMLのテンプレートは以下を利用しても良い。"
   ]
  },
  {
   "cell_type": "markdown",
   "metadata": {},
   "source": [
    "```html\n",
    "<!DOCTYPE html>\n",
    "<html lang=\"ja\">\n",
    "\n",
    "<head>\n",
    "    <meta charset=\"UTF-8\">\n",
    "    <title>演習課題</title>\n",
    "</head>\n",
    "\n",
    "<body>\n",
    "    <!-- ここにHTMLを記述 -->\n",
    "    <script type=\"text/javascript\" src=\"./ex4.js\"></script>\n",
    "</body>\n",
    "\n",
    "</html>\n",
    "```"
   ]
  },
  {
   "cell_type": "markdown",
   "metadata": {},
   "source": [
    "ヒント: *input* 要素の属性には *value* がある。この属性の値に、入力された文字列が格納されている。*value* の値はJavaScriptから、`textForm.value = \"hello\";` などとして書き換えることもできる。"
   ]
  },
  {
   "cell_type": "markdown",
   "metadata": {},
   "source": [
    "~ブラウザで表示した例~"
   ]
  },
  {
   "cell_type": "markdown",
   "metadata": {},
   "source": [
    "![演習4の実行例](https://github.com/SCCP2016/botter-introduction/blob/master/img/chapter4/ex4html.png?raw=true 演習4の実行例)"
   ]
  }
 ],
 "metadata": {
  "kernelspec": {
   "display_name": "NodeJS",
   "language": "javascript",
   "name": "nodejs"
  },
  "language_info": {
   "codemirror_mode": "javascript",
   "file_extension": "js",
   "mimetype": "text/javascript",
   "name": "nodejs",
   "pygments_lexer": "javascript",
   "version": "0.10"
  }
 },
 "nbformat": 4,
 "nbformat_minor": 0
}
