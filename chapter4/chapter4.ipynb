{
 "cells": [
  {
   "cell_type": "markdown",
   "metadata": {},
   "source": [
    "# §4. イベント処理\n",
    "\n",
    "クライアントサイドJavaScriptは、**イベントドリブン型**のモデルをしています。マウス操作、キー入力、Webページの読み込みが完了したときなど、様々な動作のタイミングで、ブラウザは**イベント**を生成しています。イベントが発生する前に事前に待機しておいて、イベントが発生した際に登録しておいた処理を実行する、というモデルのことを**イベントドリブン**といいます。"
   ]
  },
  {
   "cell_type": "markdown",
   "metadata": {},
   "source": [
    "## §4-1 イベントタイプ\n",
    "\n",
    "Webページ上で発生する様々イベントは、**イベントタイプ (Event Type)**と呼ばれます。以下によく使用するイベントタイプを表にします。様々なイベントに対して処理を発生させられることがわかります。"
   ]
  },
  {
   "cell_type": "markdown",
   "metadata": {},
   "source": [
    "|イベントタイプ|発生のタイミング|\n",
    "|:-:|:-:|\n",
    "|click, dblclick|クリック、ダブルクリックを検知したとき|\n",
    "|mouseout, mouseover,<br>mousedown, mouseup|マウスポインタがイベントターゲットに乗ったとき|\n",
    "|keypress, keydown, keyup|キーの状態に応じて処理する|\n",
    "|load|Webページの読み込みがすべて完了したとき|\n",
    "|submit, reset|フォームの送信時、リセット時に処理を行う|\n",
    "|change|フォームの入力値、選択が変更されたとき|\n",
    "|drag, dragstart, dragend, dragover,<br>dragenter, dragleave, dragexit, drop|マウスでドラッグ&ドロップに関する処理|"
   ]
  },
  {
   "cell_type": "markdown",
   "metadata": {},
   "source": [
    "## §4-2 イベントリスナを登録する\n",
    "\n",
    "イベントに対して処理を登録するには、いくつかの方法があります。イベントに追加する処理のことを**イベントリスナ(Event Listener)**、または**イベントハンドラ(Event Handler)**と呼びます。イベントリスナは、関数(もしくは、無名関数)を渡すことと同義です。イベントが起きた時に関数が呼ばれるため、*コールバック関数*と呼ぶこともあります。イベントを追加される対象の要素のことを**イベントターゲット(Event Target)**と呼びます。イベントターゲットに対してイベントリスナを登録する方法は、いくつかあるので順に紹介をしていきます。"
   ]
  },
  {
   "cell_type": "markdown",
   "metadata": {},
   "source": [
    "### HTMLタグに直接記述 (非推奨)\n",
    "\n",
    "HTMLのタグには、イベントタイプが属性名として用意されています。属性には、文字列の形で、JavaScriptのコードを記述し、イベントリスナとすることが出来ます。しかし、前チャプターで説明したとおり、HTMLは文書を記述するために書かれるべきものなので、このような方法は好ましくありません。\n",
    "\n",
    "```html\n",
    "<button onclick=\"alert('Hello world!')\">\n",
    "```"
   ]
  },
  {
   "cell_type": "markdown",
   "metadata": {},
   "source": [
    "### DOM要素のプロパティに設定 (非推奨)\n",
    "\n",
    "HTMLタグと同様に、*HTMLElement*には、イベントタイプに対応したプロパティが用意されています。プロパティに対して、コールバック関数を代入する形で、イベントリスナを登録することが出来ます。しかし、この手法では、イベントリスナを一つのイベントタイプに対して一つまでしか登録することが出来ません。\n",
    "\n",
    "```javascript\n",
    "var paragraph = document.getElementById(\"paragraph\");\n",
    "paragraph.onclick = function(){ alert('Hello world!'); };\n",
    "```"
   ]
  },
  {
   "cell_type": "markdown",
   "metadata": {},
   "source": [
    "### addEventListener, removeEventListenerメソッドを使う\n",
    "\n",
    "推奨されるイベントリスナの登録方法は、*addEventListenr*メソッドを使用することです。引数には、eventType(文字列)とイベントリスナ(コールバック関数)を渡します。また、コールバック関数は、引数に*DOM Event Interface*を暗黙的に受け取ります。インターフェースは、targetプロパティの値として、イベントターゲットとなるHTMLElementオブジェクトを持っています。また、この手法を用いると複数のイベントリスナを一つのイベントタイプに対して登録が行なえます。addEventListenerメソッドで追加されたイベントリスナは、*removeEventListener*メソッドを使うことで削除することも出来ます。\n",
    "\n",
    "```javascript\n",
    "// eventTarget.addEventListener(eventType, eventListener);\n",
    "\n",
    "paragraph.addEventListener('click', function(){\n",
    "    alert(\"Click!\");\n",
    "});\n",
    "\n",
    "function showInnerHTML(e){ // e == DOM Event Interface\n",
    "   // e.targetは、下の例では、paragraphと同義\n",
    "   alert(e.target.innerHTML);\n",
    "}\n",
    "\n",
    "// addEventListenerは、複数のイベントリスナを一つのイベントタイプに対して登録が行える。\n",
    "paragraph.addEventListener('click', showInnerHTML);\n",
    "\n",
    "// イベントリスナの削除、無名関数では行えないので注意。\n",
    "paragraph.removeEventLister('click', showInnerHTML);\n",
    "```"
   ]
  },
  {
   "cell_type": "markdown",
   "metadata": {},
   "source": [
    "## §4-3 例題"
   ]
  },
  {
   "cell_type": "markdown",
   "metadata": {},
   "source": [
    "### 例4-1\n",
    "\n",
    "Webページ上で、Enterキーが入力されたとき、alert()を表示させてみましょう。キー入力の情報を調べるには、DOM Event Interfaceから取得することが出来ます"
   ]
  },
  {
   "cell_type": "markdown",
   "metadata": {},
   "source": [
    "~/sccp/web/sample4-1.js\n",
    "\n",
    "```javascript\n",
    "document.body.addEventListener(\"keydown\", function(e) {\n",
    "    // キーコードを取得 13 == Enterキー\n",
    "    if(e.keyCode == 13) {\n",
    "        alert(\"Enterキーが押されました\");\n",
    "    }\n",
    "});\n",
    "```"
   ]
  },
  {
   "cell_type": "markdown",
   "metadata": {},
   "source": [
    "### 例4-2\n",
    "\n",
    "*p* 要素の上でマウスをクリックしたとき、alert()を表示させてみましょう。"
   ]
  },
  {
   "cell_type": "markdown",
   "metadata": {},
   "source": [
    "<p style=\"padding-left: 10px\"><em>~/sccp/web/sample4-2.html (抜粋)</em></p>\n",
    "```html\n",
    "<p id=\"content\">クリックできます。</p>\n",
    "```"
   ]
  },
  {
   "cell_type": "markdown",
   "metadata": {},
   "source": [
    "<p style=\"padding-left: 10px\"><em>~/sccp/web/sample4-2.js</em></p>\n",
    "```javascript\n",
    "var paragraph = document.getElementById(\"content\");\n",
    "paragraph.addEventListener(\"click\", function() {\n",
    "    alert(\"クリックされました\");\n",
    "});\n",
    "```"
   ]
  },
  {
   "cell_type": "markdown",
   "metadata": {},
   "source": [
    "## §4のチェックポイント\n",
    "\n",
    "- イベントドリブンとは何か、また、HTML, JSにおいてイベントドリブンに必要な要素と意味を答えよ。\n",
    "- イベントが起きたときに実行される関数を一般に何と呼ぶか。"
   ]
  },
  {
   "cell_type": "markdown",
   "metadata": {},
   "source": [
    "## 演習4\n",
    "\n",
    "一行テキストボックスに入力した文字列を、順序なしリストとして表示するコードを書け。また、以下の仕様を守ること。\n",
    "- 文字列を入力してエンターキーを押すと、入力内容がリストに新しい項目として追加され、同時にテキストボックスの内容を消去される。\n",
    "- 入力内容が空文字列である場合は、エンターキーを押しても何も起きない。"
   ]
  },
  {
   "cell_type": "markdown",
   "metadata": {},
   "source": [
    "~/sccp/web/ex4.html\n",
    "\n",
    "```html\n",
    "<!DOCTYPE html>\n",
    "<html lang=\"ja\">\n",
    "\n",
    "<head>\n",
    "    <meta charset=\"UTF-8\">\n",
    "    <title>演習課題</title>\n",
    "</head>\n",
    "\n",
    "<body>\n",
    "    <!-- ここにHTMLを記述 -->\n",
    "    <script type=\"text/javascript\" src=\"./ex4.js\"></script>\n",
    "</body>\n",
    "\n",
    "</html>\n",
    "```"
   ]
  },
  {
   "cell_type": "markdown",
   "metadata": {},
   "source": [
    "~/sccp/web/ex4.js\n",
    "\n",
    "```javascript\n",
    "// 以下にコードを記述\n",
    "```"
   ]
  },
  {
   "cell_type": "markdown",
   "metadata": {},
   "source": [
    "### ヒント\n",
    "\n",
    "*input*要素の中の値は、*innerHTML*では取得出来ません。なぜなら*input*要素の値は、value属性に格納されるからです。そのため、valueの値の参照や書き換えは以下のように行ってください。\n",
    "\n",
    "```javascript\n",
    "input.value;          // 参照\n",
    "input.value = \"abcd\"; // 書き換え\n",
    "```"
   ]
  },
  {
   "cell_type": "markdown",
   "metadata": {},
   "source": [
    "~ブラウザで表示した例~\n",
    "\n",
    "![演習4の実行例](https://github.com/SCCP2016/botter-introduction/blob/master/img/chapter4/ex4html.png?raw=true 演習4の実行例)"
   ]
  }
 ],
 "metadata": {
  "kernelspec": {
   "display_name": "NodeJS",
   "language": "javascript",
   "name": "nodejs"
  },
  "language_info": {
   "codemirror_mode": "javascript",
   "file_extension": "js",
   "mimetype": "text/javascript",
   "name": "nodejs",
   "pygments_lexer": "javascript",
   "version": "0.10"
  }
 },
 "nbformat": 4,
 "nbformat_minor": 0
}
