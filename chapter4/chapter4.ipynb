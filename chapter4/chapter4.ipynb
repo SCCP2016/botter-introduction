{
 "cells": [
  {
   "cell_type": "markdown",
   "metadata": {},
   "source": [
    "## §4. EventListenerを使おう"
   ]
  },
  {
   "cell_type": "markdown",
   "metadata": {},
   "source": [
    "マウスの操作、キーボードの操作、Webページが読み込まれたときなど、様々な動作のタイミングを**イベント**といいます。イベントが発生したとき、実行したい処理があるとします。例えば、画面上でマウスをクリックしたらalert()を表示させたいとします。そのようなときは以下のように記述します。"
   ]
  },
  {
   "cell_type": "markdown",
   "metadata": {},
   "source": [
    "<p style=\"background-color: #E3F2FD; padding: 5px 10px 5px 10px; margin: 10px 2px 10px 0px; border-radius: 2px; border: 1px solid #64B5F6;\">EventTarget.addEventListener(イベントの名前, コールバック関数)</p>"
   ]
  },
  {
   "cell_type": "markdown",
   "metadata": {},
   "source": [
    "イベントを発行させるものを**EventTarget**といい、発行されたイベントを受けるものを**EventListener**といいます。EventListenerにはイベントが発行された時に実行したいコールバック関数を与えます。"
   ]
  },
  {
   "cell_type": "markdown",
   "metadata": {},
   "source": [
    "```javascript\n",
    "document.addEventListener(\"click\", function() {\n",
    "    alert(\"クリックされました\");\n",
    "});\n",
    "```"
   ]
  },
  {
   "cell_type": "markdown",
   "metadata": {},
   "source": [
    "### 演習4"
   ]
  },
  {
   "cell_type": "markdown",
   "metadata": {},
   "source": [
    "EventListenerを利用して、入力した文字列をリストに表示していくコードを書け。"
   ]
  },
  {
   "cell_type": "markdown",
   "metadata": {},
   "source": [
    "（詳しい仕様はあと）"
   ]
  }
 ],
 "metadata": {
  "kernelspec": {
   "display_name": "NodeJS",
   "language": "javascript",
   "name": "nodejs"
  },
  "language_info": {
   "codemirror_mode": "javascript",
   "file_extension": "js",
   "mimetype": "text/javascript",
   "name": "nodejs",
   "pygments_lexer": "javascript",
   "version": "0.10"
  }
 },
 "nbformat": 4,
 "nbformat_minor": 0
}
