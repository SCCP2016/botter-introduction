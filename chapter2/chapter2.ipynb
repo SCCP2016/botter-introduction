{
 "cells": [
  {
   "cell_type": "markdown",
   "metadata": {},
   "source": [
    "# §2. JavaScript"
   ]
  },
  {
   "cell_type": "markdown",
   "metadata": {},
   "source": [
    "## §2.1 JavaScript"
   ]
  },
  {
   "cell_type": "markdown",
   "metadata": {},
   "source": [
    "JavaScriptとは、主にWebページに **動的な演出** を加えることを目的としたプログラミング言語です。HTMLがWebページの文書の構造を静的に記述するのに対して、JavaScriptは時刻やユーザーの操作に従い、HTMLの要素の内容を動的に変えることができます。JavaScriptは使われる場面によって更に細かく分類することが出来て、実際にユーザーが操作したり見ることが出来る、ブラウザ側の処理の部分を **フロントエンドJS(クライアント・サイドJS)** と呼び、ユーザーからは見えない内部的なサーバー側の処理の部分を **バックエンドJS(サーバー・サイドJS)** と呼びます。\n",
    "  \n",
    "![](https://github.com/SCCP2016/botter-introduction/blob/master/img/chapter2/javascript-relationship.png?raw=true)\n",
    "  \n",
    "### コラム : JavaとJavaScript\n",
    "\n",
    "プログラミング学習者の皆さんであれば、Javaと呼ばれるプログラミング言語があることはご存知でしょう。では、名前の似ているJavaとJavaScriptは何か関係があるのでしょうか？  \n",
    "答えは **全く関係ありません** 。  \n",
    "JavaScriptは、1990年代にNetscape社によってLiveScriptという名前で開発されました。当時Netscape社と業務提携していたSun Microsystems社の開発したJavaという言語が大きく流行ったため、JavaScriptという名前に変更されました。そのため、JavaとJavaScriptは名前は似ていても中身は全く別物です。"
   ]
  },
  {
   "cell_type": "markdown",
   "metadata": {},
   "source": [
    "### ECMAScript\n",
    "\n",
    "JavaScriptは以前、Webブラウザ毎に実装が異なっていました。そのため仕様の差異が生まれ完全にどのブラウザでも動作するようなプログラムを書くことが困難でした。そのため標準化団体による標準規格の策定を求める声が高まり、標準化団体*Ecma International*が、ECMAScript(エクマスクリプト)としてJavaScriptの標準を定めました。現在の多くのブラウザでは、*EcmaScript5*(*ES5*)が標準動作しています。本資料では、ES5を採用しています。EcmaScriptの最新バージョンは、ES6ですが年度毎にバージョンを更新することが決定されたので、正式には*ES2015*と表記されます。最終課題では、ES5ではなく、ES2015を採用する予定です。ES2015は、多くのブラウザでは動作しないため、ES5へ変換(*トランスパイル*)されて動作させます。現在トランスパイルには、[Babel](https://babeljs.io)を使うのがメジャーとなっています。"
   ]
  },
  {
   "cell_type": "markdown",
   "metadata": {},
   "source": [
    "## §2-2. フロントエンドJS"
   ]
  },
  {
   "cell_type": "markdown",
   "metadata": {},
   "source": [
    "この節では実際にブラウザ上で、基本的なフロントエンドJSの動作を確認します。Firefoxに標準搭載されている開発者向けのツールがあり、*Ctrl+Shift+k*をタイプすることで開くことが出来ます。HTMLの要素を視覚的に確認することが出来る*インスペクタ*やJavaScriptを実行させたり、結果を確認することが出来る*コンソール*、デバッガ等が備えられています。今回は、コンソールをタブから選択し、一番下のフォームに\n",
    "\n",
    "> $ console.log(2*5);\n",
    "\n",
    "とタイプしてみましょう。そうすると数式の結果がコンソール上に表示されるはずです。\n",
    "\n",
    "![](https://github.com/SCCP2016/botter-introduction/blob/master/img/chapter2/console.png?raw=true)"
   ]
  },
  {
   "cell_type": "markdown",
   "metadata": {},
   "source": [
    "続いて、HTML上でJavaScriptを記述して実行してみましょう。以下のようなファイルを作りブラウザで開いてみましょう。\n",
    "\n",
    "> $ firefox sample2-1.html\n",
    "\n",
    "JavaScriptをHTMLに直接記述するには、*scipt* 要素を使い、子要素として、JavaScriptのソースコードを記述します。"
   ]
  },
  {
   "cell_type": "markdown",
   "metadata": {},
   "source": [
    "*~/sccp/web/sample2-1.html*"
   ]
  },
  {
   "cell_type": "markdown",
   "metadata": {},
   "source": [
    "```html\n",
    "<!DOCTYPE html>\n",
    "<html>\n",
    "<head>\n",
    "    <meta charset=\"UTF-8\">\n",
    "</head>\n",
    "<body>\n",
    "    <script>\n",
    "        console.log(\"コンソールに表示されるかな？\");\n",
    "        alert(\"アラート！\");\n",
    "    </script>\n",
    "</body>\n",
    "</html>\n",
    "```"
   ]
  },
  {
   "cell_type": "markdown",
   "metadata": {},
   "source": [
    "そうすると次のような結果になるはずです。\n",
    "\n",
    "![](https://github.com/SCCP2016/botter-introduction/blob/master/img/chapter2/sample1.png?raw=true)\n",
    "\n",
    "*console.log*は、先ほどと同じで、コンソール上での表示を行う命令ですが、*alert*は、ポップアップにメッセージの表示を行う命令です。"
   ]
  },
  {
   "cell_type": "markdown",
   "metadata": {},
   "source": [
    "続いて、変数の宣言と代入、console.logとalertの違いに触れていきましょう。変数は、*var*というキーワードの後に変数名を書き代入を行います。varキーワードを付けなくても、変数を仕様することは出来ますが、その場合グローバルスコープ(グローバル変数)となってしまい、どこからの参照・変更が可能になってしまうためバグが起きやすくなってしまいます。なので基本的には、varキーワードを使用するようにしましょう。JavaScriptは、Ruby同様に動的型付け言語のため、型の宣言は要りません。次の例では、*arr*という変数に、配列を代入しています。プログラムが記述できたらブラウザで開いてプログラムを確認してみましょう。\n",
    "\n",
    "> $ firefox ex2-2.html"
   ]
  },
  {
   "cell_type": "markdown",
   "metadata": {},
   "source": [
    "*~/sccp/web/sample2-2.html*"
   ]
  },
  {
   "cell_type": "markdown",
   "metadata": {},
   "source": [
    "```html\n",
    "<!DOCTYPE html>\n",
    "<html>\n",
    "<head>\n",
    "    <meta charset=\"UTF-8\">\n",
    "</head>\n",
    "<body>\n",
    "    <script>\n",
    "        var arr = [1,2,3,4];\n",
    "        \n",
    "        console.log(arr);\n",
    "        alert(arr);\n",
    "    </script>\n",
    "</body>\n",
    "</html>\n",
    "```"
   ]
  },
  {
   "cell_type": "markdown",
   "metadata": {},
   "source": [
    "![](https://github.com/SCCP2016/botter-introduction/blob/master/img/chapter2/sample2.png?raw=true)"
   ]
  },
  {
   "cell_type": "markdown",
   "metadata": {},
   "source": [
    "配列を表示した場合、console.logの方がより詳細に型の情報や見せ方をしてくれているのがわかると思います。元々コンソールは開発者のためのログを出力する場所なので、プログラムのデバッグ目的で文字を表示する場合は、console.logを使用すると良いでしょう。"
   ]
  },
  {
   "cell_type": "markdown",
   "metadata": {},
   "source": [
    "## §2-2. バックエンドJS (Node.js)\n",
    "\n",
    "**Node.js**とは、サーバーサイドJavaScript環境と呼ばれているものです。  \n",
    "JavaScriptを解釈し実行するものを **JavaScriptエンジン** と呼びますが、Node.jsでは、Googleが開発した **V8** を採用しており、メモリ消費量が少ない、高速な処理がNode.jsの主な特長となっています。この節では、実際にjupyterNote(このノート)を使ってJavaScriptを実行してみましょう。このノートは実は、Node.jsを利用して実行しているため、Node.jsを使ったときと同様の挙動をします。また、このノートでは、ES2015が採用されています。しかし、ES2015は、ES5の文法と互換性があるため、ES5の文法でプログラムを記述しても問題なく動作します。基本的な操作は[jupyterNoteのチュートリアル](https://github.com/SCCP2016/how2jupyter/blob/master/README.md)を参照してください。"
   ]
  },
  {
   "cell_type": "markdown",
   "metadata": {},
   "source": [
    "### フロントエンドJSとバックエンドJSの違い\n",
    "\n",
    "フロントエンドJSとバックエンドJSの違いを知るために、今まで習った命令を試してみましょう。今まで習った命令はたった２つです。そうconsole.logとalertです。"
   ]
  },
  {
   "cell_type": "code",
   "execution_count": 12,
   "metadata": {
    "collapsed": false
   },
   "outputs": [
    {
     "name": "stdout",
     "output_type": "stream",
     "text": [
      "8\n"
     ]
    }
   ],
   "source": [
    "console.log(2*4);"
   ]
  },
  {
   "cell_type": "code",
   "execution_count": 11,
   "metadata": {
    "collapsed": false
   },
   "outputs": [
    {
     "ename": "Javascript Error",
     "evalue": "alert is not defined",
     "output_type": "error",
     "traceback": [
      "ReferenceError: alert is not defined\n    at <anonymous>:1:1\n    at Object.Contextify.sandbox.run (/root/jupyter-nodejs/node_modules/contextify/lib/contextify.js:12:24)\n    at Context.rawRun (/root/jupyter-nodejs/build/context.js:168:23)\n    at /root/jupyter-nodejs/build/context.js:188:27\n    at b (domain.js:183:18)\n    at Domain.run (domain.js:123:23)\n    at Context.rawEvaluate (/root/jupyter-nodejs/build/context.js:186:9)\n    at Context.execute (/root/jupyter-nodejs/build/context.js:333:21)\n    at Kernel.executeRequest (/root/jupyter-nodejs/build/kernel.js:197:16)\n    at Kernel.onShell (/root/jupyter-nodejs/build/kernel.js:123:14)"
     ]
    }
   ],
   "source": [
    "alert(2*4);"
   ]
  },
  {
   "cell_type": "markdown",
   "metadata": {},
   "source": [
    "console.logは正常に動作したと思いますが、alertは、*not defined*というエラーが表示されました。これは、Node.jsがコンソール上で動くことを想定しているため、ブラウザ(HTML)に関する命令は存在していません。alertもブラウザのポップアップにメッセージを表示する命令のため、ブラウザ命令に該当します。その代わりNode.jsでは、ファイルを操作したりOSに関連するプログラムが動作するようになっています。JavaScriptを調べるときは、フロントエンドJSなのかバックエンドJSなのか、ES5なのかES2015なのかを注意深く確認することが大切です。"
   ]
  },
  {
   "cell_type": "markdown",
   "metadata": {},
   "source": [
    "### 基礎文法\n",
    "\n",
    "いくつかの基本的な文法を紹介していく、本ノートは、自由に変更して実行することが出来るので、試しながら文法と、その挙動を確認してみましょう。"
   ]
  },
  {
   "cell_type": "markdown",
   "metadata": {},
   "source": [
    "#### コメント"
   ]
  },
  {
   "cell_type": "code",
   "execution_count": 14,
   "metadata": {
    "collapsed": true
   },
   "outputs": [],
   "source": [
    "// スラッシュ文字が2つ並んだ後の文字はすべてコメントになる。\n",
    "/*\n",
    "  複数行に渡る場合は、スラッシュ+アスタリスク\n",
    "  コメント終わりは、アスタリスク+スラッシュで閉じる。\n",
    "*/"
   ]
  },
  {
   "cell_type": "markdown",
   "metadata": {},
   "source": [
    "変数宣言"
   ]
  },
  {
   "cell_type": "code",
   "execution_count": 15,
   "metadata": {
    "collapsed": false
   },
   "outputs": [
    {
     "data": {
      "text/plain": [
       "0"
      ]
     },
     "execution_count": 15,
     "metadata": {},
     "output_type": "execute_result"
    }
   ],
   "source": [
    "var x; // 変数宣言\n",
    "x = 0; // xに0を代入。\n",
    "x; // xの値を評価する。"
   ]
  },
  {
   "cell_type": "markdown",
   "metadata": {},
   "source": [
    "#### さまざまな型"
   ]
  },
  {
   "cell_type": "code",
   "execution_count": 16,
   "metadata": {
    "collapsed": false
   },
   "outputs": [
    {
     "data": {
      "text/plain": [
       "1"
      ]
     },
     "execution_count": 16,
     "metadata": {},
     "output_type": "execute_result"
    }
   ],
   "source": [
    "x = 1; //数値"
   ]
  },
  {
   "cell_type": "code",
   "execution_count": 17,
   "metadata": {
    "collapsed": false
   },
   "outputs": [
    {
     "data": {
      "text/plain": [
       "0.01"
      ]
     },
     "execution_count": 17,
     "metadata": {},
     "output_type": "execute_result"
    }
   ],
   "source": [
    "x = 0.01; // 整数も実数も同じ数値型になる。"
   ]
  },
  {
   "cell_type": "code",
   "execution_count": 18,
   "metadata": {
    "collapsed": false
   },
   "outputs": [
    {
     "data": {
      "text/plain": [
       "\"Hello world\""
      ]
     },
     "execution_count": 18,
     "metadata": {},
     "output_type": "execute_result"
    }
   ],
   "source": [
    "x = \"Hello world\"; // 文字列はダブルクォートで囲む。"
   ]
  },
  {
   "cell_type": "code",
   "execution_count": 20,
   "metadata": {
    "collapsed": false
   },
   "outputs": [
    {
     "data": {
      "text/plain": [
       "\"<p id=\\\"xxx\\\">hoge</p>\""
      ]
     },
     "execution_count": 20,
     "metadata": {},
     "output_type": "execute_result"
    }
   ],
   "source": [
    "// シングルクォートでも文字列扱いになる。\n",
    "// 中で記述する文字列にダブルクォートがある場合に有効。\n",
    "x = '<p id=\"xxx\">hoge</p>' "
   ]
  },
  {
   "cell_type": "code",
   "execution_count": 21,
   "metadata": {
    "collapsed": false
   },
   "outputs": [
    {
     "data": {
      "text/plain": [
       "true"
      ]
     },
     "execution_count": 21,
     "metadata": {},
     "output_type": "execute_result"
    }
   ],
   "source": [
    "x = true; // 論理値。真。"
   ]
  },
  {
   "cell_type": "code",
   "execution_count": 22,
   "metadata": {
    "collapsed": false
   },
   "outputs": [
    {
     "data": {
      "text/plain": [
       "false"
      ]
     },
     "execution_count": 22,
     "metadata": {},
     "output_type": "execute_result"
    }
   ],
   "source": [
    "x = false; // 論理値。偽。"
   ]
  },
  {
   "cell_type": "code",
   "execution_count": 23,
   "metadata": {
    "collapsed": false
   },
   "outputs": [
    {
     "data": {
      "text/plain": [
       "null"
      ]
     },
     "execution_count": 23,
     "metadata": {},
     "output_type": "execute_result"
    }
   ],
   "source": [
    "x = null; // 特殊な値で「値がない」ことを意味する。"
   ]
  },
  {
   "cell_type": "code",
   "execution_count": 24,
   "metadata": {
    "collapsed": true
   },
   "outputs": [],
   "source": [
    "x = undefined; // 特殊な値で「値が未定義」ことを意味する。"
   ]
  },
  {
   "cell_type": "code",
   "execution_count": 27,
   "metadata": {
    "collapsed": false
   },
   "outputs": [
    {
     "data": {
      "text/plain": [
       "[Array] [1,2,3,4]"
      ]
     },
     "execution_count": 27,
     "metadata": {},
     "output_type": "execute_result"
    }
   ],
   "source": [
    "var arr = [1, 2, 3, 4]; // 数値型の配列。\n",
    "arr;"
   ]
  },
  {
   "cell_type": "code",
   "execution_count": 28,
   "metadata": {
    "collapsed": false
   },
   "outputs": [
    {
     "data": {
      "text/plain": [
       "{\"topic\":\"JavaScript\",\"fat\":true}"
      ]
     },
     "execution_count": 28,
     "metadata": {},
     "output_type": "execute_result"
    }
   ],
   "source": [
    "var book = {           // オブジェクトは、中括弧で囲む。\n",
    "  topic: \"JavaScript\", // topicプロパティは、\"JavaScript\"という文字列の値を持つ。\n",
    "  fat: true            // fatプロパティは、trueという論理値を持つ。\n",
    "};\n",
    "book;"
   ]
  },
  {
   "cell_type": "code",
   "execution_count": 29,
   "metadata": {
    "collapsed": false
   },
   "outputs": [
    {
     "data": {
      "text/plain": [
       "\"JavaScript\""
      ]
     },
     "execution_count": 29,
     "metadata": {},
     "output_type": "execute_result"
    }
   ],
   "source": [
    "// プロパティへのアクセスは、ドット「.」\n",
    "book.topic;"
   ]
  },
  {
   "cell_type": "code",
   "execution_count": 30,
   "metadata": {
    "collapsed": false
   },
   "outputs": [
    {
     "data": {
      "text/plain": [
       "\"JavaScript\""
      ]
     },
     "execution_count": 30,
     "metadata": {},
     "output_type": "execute_result"
    }
   ],
   "source": [
    "// もしくは、大括弧 「[]]を使う。\n",
    "book[\"topic\"];"
   ]
  },
  {
   "cell_type": "code",
   "execution_count": 32,
   "metadata": {
    "collapsed": false
   },
   "outputs": [
    {
     "data": {
      "text/plain": [
       "{\"topic\":\"JavaScript\",\"fat\":true,\"author\":\"Flanagan\"}"
      ]
     },
     "execution_count": 32,
     "metadata": {},
     "output_type": "execute_result"
    }
   ],
   "source": [
    "book.author = \"Flanagan\"; // 新たなプロパティを作ることも出来る。\n",
    "book;"
   ]
  },
  {
   "cell_type": "code",
   "execution_count": 34,
   "metadata": {
    "collapsed": false
   },
   "outputs": [
    {
     "data": {
      "text/plain": [
       "{\"topic\":\"JavaScript\",\"fat\":true,\"author\":\"Flanagan\",\"contents\":{}}"
      ]
     },
     "execution_count": 34,
     "metadata": {},
     "output_type": "execute_result"
    }
   ],
   "source": [
    "book.contents = {}; // {}は、何もプロパティを持たない空のオブジェクトを意味する。\n",
    "book;"
   ]
  },
  {
   "cell_type": "code",
   "execution_count": 36,
   "metadata": {
    "collapsed": false
   },
   "outputs": [
    {
     "data": {
      "text/plain": [
       "4"
      ]
     },
     "execution_count": 36,
     "metadata": {},
     "output_type": "execute_result"
    }
   ],
   "source": [
    "arr.length; // 配列もいくつかのプロパティを持つ。"
   ]
  },
  {
   "cell_type": "code",
   "execution_count": 38,
   "metadata": {
    "collapsed": false
   },
   "outputs": [
    {
     "data": {
      "text/plain": [
       "[Array] [1,2,3,4,5,5]"
      ]
     },
     "execution_count": 38,
     "metadata": {},
     "output_type": "execute_result"
    }
   ],
   "source": [
    "arr.push(5); // プロパティとして関数(メソッド)を持っている場合もある。\n",
    "arr;"
   ]
  },
  {
   "cell_type": "code",
   "execution_count": 40,
   "metadata": {
    "collapsed": false
   },
   "outputs": [
    {
     "data": {
      "text/plain": [
       "[Array] [{\"x\":0,\"y\":0},{\"x\":1,\"y\":1}]"
      ]
     },
     "execution_count": 40,
     "metadata": {},
     "output_type": "execute_result"
    }
   ],
   "source": [
    "// 配列やオブジェクトには、別の配列やオブジェクトを格納できる。\n",
    "var points = [\n",
    "    {x: 0, y: 0},\n",
    "    {x: 1, y: 1}\n",
    "];\n",
    "points;"
   ]
  },
  {
   "cell_type": "code",
   "execution_count": 41,
   "metadata": {
    "collapsed": false
   },
   "outputs": [
    {
     "data": {
      "text/plain": [
       "{\"x\":0,\"y\":0}"
      ]
     },
     "execution_count": 41,
     "metadata": {},
     "output_type": "execute_result"
    }
   ],
   "source": [
    "points[0];"
   ]
  },
  {
   "cell_type": "code",
   "execution_count": 43,
   "metadata": {
    "collapsed": false
   },
   "outputs": [
    {
     "data": {
      "text/plain": [
       "1"
      ]
     },
     "execution_count": 43,
     "metadata": {},
     "output_type": "execute_result"
    }
   ],
   "source": [
    "points[1].x;"
   ]
  },
  {
   "cell_type": "code",
   "execution_count": 44,
   "metadata": {
    "collapsed": true
   },
   "outputs": [],
   "source": [
    "var data = {\n",
    "  trial1: [[1, 2], [3, 4]],\n",
    "  trial2: [[2, 3], [4, 5]]\n",
    "};"
   ]
  },
  {
   "cell_type": "code",
   "execution_count": 45,
   "metadata": {
    "collapsed": false
   },
   "outputs": [
    {
     "data": {
      "text/plain": [
       "[Array] [1,2]"
      ]
     },
     "execution_count": 45,
     "metadata": {},
     "output_type": "execute_result"
    }
   ],
   "source": [
    "data.trial1[0];"
   ]
  },
  {
   "cell_type": "markdown",
   "metadata": {},
   "source": [
    "#### さまざまな演算"
   ]
  },
  {
   "cell_type": "code",
   "execution_count": 47,
   "metadata": {
    "collapsed": false
   },
   "outputs": [
    {
     "data": {
      "text/plain": [
       "5"
      ]
     },
     "execution_count": 47,
     "metadata": {},
     "output_type": "execute_result"
    }
   ],
   "source": [
    "3 + 2; // 四則演算"
   ]
  },
  {
   "cell_type": "code",
   "execution_count": 48,
   "metadata": {
    "collapsed": false
   },
   "outputs": [
    {
     "data": {
      "text/plain": [
       "1"
      ]
     },
     "execution_count": 48,
     "metadata": {},
     "output_type": "execute_result"
    }
   ],
   "source": [
    "5 % 2; // 剰余算"
   ]
  },
  {
   "cell_type": "code",
   "execution_count": 50,
   "metadata": {
    "collapsed": false
   },
   "outputs": [
    {
     "data": {
      "text/plain": [
       "1"
      ]
     },
     "execution_count": 50,
     "metadata": {},
     "output_type": "execute_result"
    }
   ],
   "source": [
    "points[1].x - points[0].x; // オブジェクトを使った複雑な計算。"
   ]
  },
  {
   "cell_type": "code",
   "execution_count": 51,
   "metadata": {
    "collapsed": false
   },
   "outputs": [
    {
     "data": {
      "text/plain": [
       "\"32\""
      ]
     },
     "execution_count": 51,
     "metadata": {},
     "output_type": "execute_result"
    }
   ],
   "source": [
    "\"3\" + \"2\"; // 文字列の足し算は、連結。"
   ]
  },
  {
   "cell_type": "code",
   "execution_count": 52,
   "metadata": {
    "collapsed": true
   },
   "outputs": [],
   "source": [
    "var count = 0;"
   ]
  },
  {
   "cell_type": "code",
   "execution_count": 54,
   "metadata": {
    "collapsed": false
   },
   "outputs": [
    {
     "data": {
      "text/plain": [
       "2"
      ]
     },
     "execution_count": 54,
     "metadata": {},
     "output_type": "execute_result"
    }
   ],
   "source": [
    "count++; // インクリメント\n",
    "count; "
   ]
  },
  {
   "cell_type": "code",
   "execution_count": 55,
   "metadata": {
    "collapsed": false
   },
   "outputs": [
    {
     "data": {
      "text/plain": [
       "1"
      ]
     },
     "execution_count": 55,
     "metadata": {},
     "output_type": "execute_result"
    }
   ],
   "source": [
    "count--; // デクリメント\n",
    "count; "
   ]
  },
  {
   "cell_type": "code",
   "execution_count": 56,
   "metadata": {
    "collapsed": false
   },
   "outputs": [
    {
     "data": {
      "text/plain": [
       "false"
      ]
     },
     "execution_count": 56,
     "metadata": {},
     "output_type": "execute_result"
    }
   ],
   "source": [
    "2 == 3;"
   ]
  },
  {
   "cell_type": "code",
   "execution_count": 57,
   "metadata": {
    "collapsed": false
   },
   "outputs": [
    {
     "data": {
      "text/plain": [
       "false"
      ]
     },
     "execution_count": 57,
     "metadata": {},
     "output_type": "execute_result"
    }
   ],
   "source": [
    "\"two\" == \"tree\";"
   ]
  },
  {
   "cell_type": "code",
   "execution_count": 58,
   "metadata": {
    "collapsed": false
   },
   "outputs": [
    {
     "data": {
      "text/plain": [
       "true"
      ]
     },
     "execution_count": 58,
     "metadata": {},
     "output_type": "execute_result"
    }
   ],
   "source": [
    "\"two\" > \"three\"; // 辞書順比較。 th -> tw の順で正しい。 "
   ]
  },
  {
   "cell_type": "code",
   "execution_count": 64,
   "metadata": {
    "collapsed": false
   },
   "outputs": [
    {
     "data": {
      "text/plain": [
       "true"
      ]
     },
     "execution_count": 64,
     "metadata": {},
     "output_type": "execute_result"
    }
   ],
   "source": [
    "var x = true; // 論理演算\n",
    "var y = false;\n",
    "!(x && y);"
   ]
  },
  {
   "cell_type": "markdown",
   "metadata": {},
   "source": [
    "### 関数\n",
    "\n",
    "JavaScriptにおいて関数は重要な概念です。関数の使い方を学ぶことでJavaScriptへの理解度は飛躍的に上昇します。"
   ]
  },
  {
   "cell_type": "markdown",
   "metadata": {},
   "source": [
    "#### 関数定義と呼び出し\n",
    "\n",
    "多くの言語と同じ様に、名前を付けて関数定義を定義することができます。関数を定義するには、**function**キーワードを利用します。"
   ]
  },
  {
   "cell_type": "code",
   "execution_count": 65,
   "metadata": {
    "collapsed": false
   },
   "outputs": [
    {
     "data": {
      "text/plain": [
       "11"
      ]
     },
     "execution_count": 65,
     "metadata": {},
     "output_type": "execute_result"
    }
   ],
   "source": [
    "function plus1(x) { // xという引数を持つ、plus1と言う名前の関数。\n",
    "    return x+1;     // xより1大きい値を返す。\n",
    "}\n",
    "\n",
    "plus1(10);"
   ]
  },
  {
   "cell_type": "markdown",
   "metadata": {},
   "source": [
    "#### 無名関数\n",
    "\n",
    "JavaScriptの関数は、名前を付けずに定義することが可能です。このような関数を無名関数と呼びます。また、関数は変数に代入することが可能です。"
   ]
  },
  {
   "cell_type": "code",
   "execution_count": 67,
   "metadata": {
    "collapsed": false
   },
   "outputs": [
    {
     "data": {
      "text/plain": [
       "25"
      ]
     },
     "execution_count": 67,
     "metadata": {},
     "output_type": "execute_result"
    }
   ],
   "source": [
    "var square = function(x) { // 無名関数を定義し、変数squareに代入。\n",
    "    return x * x;\n",
    "}\n",
    "\n",
    "square(5); // 呼び出しも可能。"
   ]
  },
  {
   "cell_type": "code",
   "execution_count": 68,
   "metadata": {
    "collapsed": false
   },
   "outputs": [
    {
     "name": "stdout",
     "output_type": "stream",
     "text": [
      "200\n"
     ]
    }
   ],
   "source": [
    "(function() {     // 無名関数をその場で実行することも可能です。無名関数を即時関数と呼ぶこともあります。\n",
    "    // 一見無駄のように見えるが、関数の中で宣言した変数をスコープを閉じ込め、\n",
    "    // 安全にプログラムが実行出来る。\n",
    "    var x = 10;\n",
    "    var y = 20;\n",
    "    console.log(x * y);\n",
    "})();"
   ]
  },
  {
   "cell_type": "code",
   "execution_count": 69,
   "metadata": {
    "collapsed": false
   },
   "outputs": [
    {
     "data": {
      "text/plain": [
       "true"
      ]
     },
     "execution_count": 69,
     "metadata": {},
     "output_type": "execute_result"
    }
   ],
   "source": [
    "x; // 無名関数のxではない。遥か昔に定義したxの値が出力される。"
   ]
  },
  {
   "cell_type": "markdown",
   "metadata": {},
   "source": [
    "#### 高階関数\n",
    "\n",
    "JavaScriptの関数は、引数に渡したり、戻り値として関数を返すことが可能です。"
   ]
  },
  {
   "cell_type": "code",
   "execution_count": 72,
   "metadata": {
    "collapsed": false
   },
   "outputs": [
    {
     "data": {
      "text/plain": [
       "3"
      ]
     },
     "execution_count": 72,
     "metadata": {},
     "output_type": "execute_result"
    }
   ],
   "source": [
    "function plusXFunc(x, f) { // 数値xと関数fを受け取る。\n",
    "    return x + f(x);       // xとxに受け取った関数fを適用して、足し算した結果を返している。\n",
    "}\n",
    "\n",
    "plusXFunc(1, plus1);"
   ]
  },
  {
   "cell_type": "code",
   "execution_count": 74,
   "metadata": {
    "collapsed": false
   },
   "outputs": [
    {
     "data": {
      "text/plain": [
       "1010"
      ]
     },
     "execution_count": 74,
     "metadata": {},
     "output_type": "execute_result"
    }
   ],
   "source": [
    "plusXFunc(10, function(x){  // 無名関数を関数fに渡すことも可能。\n",
    "    return x * x * x;\n",
    "});"
   ]
  },
  {
   "cell_type": "markdown",
   "metadata": {},
   "source": [
    "JavaScriptの関数は、単なる宣言だけでなく、変数に代入出来たり、名前を付けずに定義出来たり、高階関数が定義出来たりすることがわかりました。このような特徴を持つ関数のことを**第一級関数**と呼びます。第一級関数を持つ言語のことを**関数型言語**と呼んだりします(呼ばなかったりもするので、基準は曖昧です)。"
   ]
  },
  {
   "cell_type": "markdown",
   "metadata": {},
   "source": [
    "#### 演習\n",
    "\n",
    "高階関数を自由に定義し、実行し結果を確認せよ。正しく定義出来た場合は、Slackの#generalに投稿せよ。"
   ]
  },
  {
   "cell_type": "markdown",
   "metadata": {},
   "source": [
    "#### チェックリスト\n",
    "\n",
    "- フロントエンドJSとサーバーサイドJSの違いは何か。\n",
    "- JavaScriptとECMAスクリプトの違いは何か。\n",
    "- JavaScriptにおける型を2つ上げ、その型の性質を答えよ。\n",
    "- JavaScriptにおける関数は、どのような性質を持っているか答えよ。"
   ]
  },
  {
   "cell_type": "markdown",
   "metadata": {},
   "source": [
    "### §2-3. JSON (JavaScript Object Notation)"
   ]
  },
  {
   "cell_type": "markdown",
   "metadata": {},
   "source": [
    "Jsonとは、JavaScriptのオブジェクトの表記をそのまま応用したデータ構文のことです。Jsonの形式になっていれば、ソースコードに貼り付けるだけでJavaScript内で利用することが出来るようになります。現在多くのプログラミング言語やツールの設定ファイルにJsonを使うケースが増えています。\n",
    "\n",
    "Jsonには大きく分けて\n",
    "\n",
    "* オブジェクト\n",
    "* 配列\n",
    "\n",
    "の二つのデータ形式が存在します。以下にルールとその例を挙げます。\n",
    "#### Jsonオブジェクト\n",
    "\n",
    "* ルール：全体を中括弧 **{ }** で囲み、 **キー** と **値** をコロン **:** で区切って表記したペアをカンマ区切りで列挙。\n",
    "* 例\n",
    "```\n",
    "{\"firstName\":\"John, \"lastName\":\"Doe\"}\n",
    "{\"1st_period\":\"LS2\", \"2nd_period\":\"csI\", \"3rd_period\":\"csI_ex\", \"4th_period\":\"literacy\"}\n",
    "```\n",
    "\n",
    "#### Json配列\n",
    "\n",
    "* ルール：全体を角括弧 **[ ]** で囲み、 **値** をカンマ **,** 区切りで列挙。\n",
    "* 例\n",
    "```\n",
    "[\n",
    "  1,\n",
    "  \"string\",\n",
    "  true\n",
    "]\n",
    "```\n",
    "\n",
    "もちろん、上で挙げたJsonオブジェクトを **値** としてカンマ **,** 区切りで列挙することも出来ます。\n",
    "```\n",
    "[\n",
    "  {\"firstName\":\"John, \"lastName\":\"Doe\"},\n",
    "  {\"1st_period\":\"LS2\", \"2nd_period\":\"csI\", \"3rd_period\":\"csI_ex\", \"4th_period\":\"literacy\"}\n",
    "]\n",
    "```\n",
    "Json配列の要素で **値** として使うことが出来るのは、基本的に以下のデータ型になります。\n",
    "\n",
    "* 数値（整数・浮動小数点）\n",
    "* 文字列（「\" \"」で括る）\n",
    "* 配列（「[ ]」で括る）\n",
    "* オブジェクト（「{ }」で括る）\n",
    "* bool（true・false）\n",
    "* null\n"
   ]
  },
  {
   "cell_type": "markdown",
   "metadata": {},
   "source": [
    "### §2-4.演習"
   ]
  },
  {
   "cell_type": "code",
   "execution_count": null,
   "metadata": {
    "collapsed": true
   },
   "outputs": [],
   "source": []
  }
 ],
 "metadata": {
  "kernelspec": {
   "display_name": "NodeJS",
   "language": "javascript",
   "name": "nodejs"
  },
  "language_info": {
   "codemirror_mode": "javascript",
   "file_extension": "js",
   "mimetype": "text/javascript",
   "name": "nodejs",
   "pygments_lexer": "javascript",
   "version": "0.10"
  }
 },
 "nbformat": 4,
 "nbformat_minor": 0
}
