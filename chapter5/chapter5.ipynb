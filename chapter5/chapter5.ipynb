{
 "cells": [
  {
   "cell_type": "markdown",
   "metadata": {},
   "source": [
    "## §5. localStorageを使おう"
   ]
  },
  {
   "cell_type": "markdown",
   "metadata": {},
   "source": [
    "**localStorage**とは、Webサイトごとに情報をローカル環境に保持しておくことが出来る仕組みです。JavaScriptから、localStorageのデータの読み書きを行うことができます。データの形式は連想配列の読み書きと同様に、**キーと値のペア**で保存されます。似たものに、Cookieと呼ばれるものがあります。Cookieとの違いは以下のとおりです。"
   ]
  },
  {
   "cell_type": "markdown",
   "metadata": {},
   "source": [
    "||サーバとの通信|データ容量|有効期限の有無|\n",
    "|:--|:--:|:--:|:--:|\n",
    "|Cookie|Webサーバにアクセスするたびにその内容を自動で送信。|小さい|期限あり|\n",
    "|localStorage|必要時のみ通信が行われる。オフラインでも利用できる。|大きい|期限なし（意図的に削除する必要あり）|"
   ]
  },
  {
   "cell_type": "markdown",
   "metadata": {},
   "source": [
    "コラム：「Webサイトごとに情報をローカル環境に保持する」と書きましたが、ここでのWebサイトごとというのは、**オリジン**ごとを指します。オリジンとは、スキーム、ホスト、ポート番号のセットを指します。`http://example.jp:80/foo.html`というアドレスであれば、`http://example.jp:80/`がオリジンにあたり、`http`はスキーム、`example.jp`はホスト、`80`はポート番号と呼ばれます。"
   ]
  },
  {
   "cell_type": "markdown",
   "metadata": {},
   "source": [
    "##### localStorageに値を保存する"
   ]
  },
  {
   "cell_type": "markdown",
   "metadata": {},
   "source": [
    "```javascript\n",
    "// 以下の2行は同じ意味\n",
    "localStorage.setItem(\"count\", 1234);\n",
    "localStorage.count = 1234;\n",
    "```"
   ]
  },
  {
   "cell_type": "markdown",
   "metadata": {},
   "source": [
    "##### localStorageから値を取得する"
   ]
  },
  {
   "cell_type": "markdown",
   "metadata": {},
   "source": [
    "```javascript\n",
    "// 以下の2行は同じ意味\n",
    "var value = localStorage.getItem(\"count\", 1234);\n",
    "var value = localStorage.count;\n",
    "```"
   ]
  },
  {
   "cell_type": "markdown",
   "metadata": {},
   "source": [
    "##### localStorageの情報をクリアする"
   ]
  },
  {
   "cell_type": "markdown",
   "metadata": {},
   "source": [
    "```javascript\n",
    "localStorage.clear();\n",
    "```"
   ]
  },
  {
   "cell_type": "markdown",
   "metadata": {},
   "source": [
    "### §5のチェックポイント"
   ]
  },
  {
   "cell_type": "markdown",
   "metadata": {},
   "source": [
    "1. localStorageはどのようなデータの形式で保存されているか。\n",
    "1. localStorageとCookieの異なる点を述べよ。"
   ]
  },
  {
   "cell_type": "markdown",
   "metadata": {},
   "source": [
    "### 演習5"
   ]
  },
  {
   "cell_type": "markdown",
   "metadata": {},
   "source": [
    "localStorageを使用して、ブラウザを開いた回数表示するカウンタを作れ。初期値は1で、ブラウザを更新するたびに1ずつ増えるものとする。HTMLファイルは以下のものを利用してよい。HTMLファイルは *ex5.html* とし、JavaScriptファイルは *ex5.js* として提出せよ。"
   ]
  },
  {
   "cell_type": "markdown",
   "metadata": {},
   "source": [
    "~ブラウザ3回表示した例~"
   ]
  },
  {
   "cell_type": "markdown",
   "metadata": {},
   "source": [
    "![ブラウザを3回更新したときの表示](https://github.com/SCCP2016/botter-introduction/blob/master/img/chapter5/ex5html.png?raw=true ブラウザを3回更新したときの表示)"
   ]
  }
 ],
 "metadata": {
  "kernelspec": {
   "display_name": "NodeJS",
   "language": "javascript",
   "name": "nodejs"
  },
  "language_info": {
   "codemirror_mode": "javascript",
   "file_extension": "js",
   "mimetype": "text/javascript",
   "name": "nodejs",
   "pygments_lexer": "javascript",
   "version": "0.10"
  }
 },
 "nbformat": 4,
 "nbformat_minor": 0
}
