{
 "cells": [
  {
   "cell_type": "markdown",
   "metadata": {},
   "source": [
    "## §5. localStorageを使おう"
   ]
  },
  {
   "cell_type": "markdown",
   "metadata": {},
   "source": [
    "**localStorage**とは、表示しているWebサイトの情報を、ユーザのローカル環境、つまりブラウザ上に保持しておくことが出来る仕組みです。JavaScriptから、localStorageのデータの読み書きを行うことができます。データの形式は、ハッシュマップと同様に**key-valueのペア**で保存されます。似たものに、Cookieと呼ばれるものがあります。Cookieとの違いは以下のとおりです。"
   ]
  },
  {
   "cell_type": "markdown",
   "metadata": {},
   "source": [
    "||サーバとの通信|データ容量の上限|有効期限の有無|\n",
    "|:--|:--:|:--:|:--:|\n",
    "|Cookie|Webサーバにアクセスするたびにその内容を自動で送信。|小さい|有効期限が設定されている。|\n",
    "|localStorage|必要時のみ。オフラインでも動作。|大きい|期限がなく、意図的に削除の必要あり|"
   ]
  },
  {
   "cell_type": "markdown",
   "metadata": {},
   "source": [
    "##### localStorageに値を保存する"
   ]
  },
  {
   "cell_type": "markdown",
   "metadata": {},
   "source": [
    "```javascript\n",
    "// 以下の2行は同じ意味\n",
    "localStorage.setItem(\"count\", 1234);\n",
    "localStorage.count = 1234;\n",
    "```"
   ]
  },
  {
   "cell_type": "markdown",
   "metadata": {},
   "source": [
    "##### localStorageから値を取得する"
   ]
  },
  {
   "cell_type": "markdown",
   "metadata": {},
   "source": [
    "```javascript\n",
    "// 以下の2行は同じ意味\n",
    "var value = localStorage.getItem(\"count\", 1234);\n",
    "var value = localStorage.count;\n",
    "```"
   ]
  },
  {
   "cell_type": "markdown",
   "metadata": {},
   "source": [
    "##### localStorageの情報をクリアする"
   ]
  },
  {
   "cell_type": "markdown",
   "metadata": {},
   "source": [
    "```javascript\n",
    "localStorage.clear();\n",
    "```"
   ]
  },
  {
   "cell_type": "markdown",
   "metadata": {},
   "source": [
    "### §5のチェックポイント"
   ]
  },
  {
   "cell_type": "markdown",
   "metadata": {},
   "source": [
    "- localStorageとCookieの異なる点を述べよ。"
   ]
  },
  {
   "cell_type": "markdown",
   "metadata": {},
   "source": [
    "### 演習5"
   ]
  },
  {
   "cell_type": "markdown",
   "metadata": {},
   "source": [
    "localStorageを使用して、ブラウザを開いた回数表示するカウンタを作れ。初期値は1で、ブラウザを更新するたびに1ずつ増えるものとする。HTMLファイルは"
   ]
  },
  {
   "cell_type": "markdown",
   "metadata": {},
   "source": [
    "~ブラウザで表示した例~ (3回目の更新時）"
   ]
  },
  {
   "cell_type": "markdown",
   "metadata": {},
   "source": [
    "![ブラウザを3回更新したときの表示](https://github.com/motxx/botter-text/blob/master/images/ex5-local-storage-counter.png?raw=true)"
   ]
  }
 ],
 "metadata": {
  "kernelspec": {
   "display_name": "NodeJS",
   "language": "javascript",
   "name": "nodejs"
  },
  "language_info": {
   "codemirror_mode": "javascript",
   "file_extension": "js",
   "mimetype": "text/javascript",
   "name": "nodejs",
   "pygments_lexer": "javascript",
   "version": "0.10"
  }
 },
 "nbformat": 4,
 "nbformat_minor": 0
}
