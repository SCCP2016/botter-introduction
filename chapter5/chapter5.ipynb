{
 "cells": [
  {
   "cell_type": "markdown",
   "metadata": {},
   "source": [
    "# §5. クライアントサイドストレージ"
   ]
  },
  {
   "cell_type": "markdown",
   "metadata": {},
   "source": [
    "## §5-1. クライアントサイドストレージとは\n",
    "\n",
    "**クライアントサイドストレージ**とは、ユーザの情報をローカル環境に保持しておくことが出来る仕組みのことです。Webサイトに繰り返し訪問したときに、以前の情報を引き継ぎたいときに利用されます。Webアプリケーションごとに様々な用途で利用されます。フォームに繰り返し入力するのを避けるために利用されたり、ブラウザゲームのセーブデータとして利用されたりします。クライアントサイドストレージには、幾つかの種類があります。本資料では、そのうちの**Web Storage**について紹介します。"
   ]
  },
  {
   "cell_type": "markdown",
   "metadata": {},
   "source": [
    "## §5-2. Web Storage\n",
    "\n",
    "**Web Storage**は、HTML5から導入されたクライアントサイドストレージです。HTML4.01までは、クライアントサイドストレージの用途としてCookieというものを利用してきましたが、セキュリティ、速度、容量や使いやすさなどの観点からHTML5からはWeb Storageを使うのが望ましいとされています。Web Storageのデータの形式は、連想配列(ハッシュ、JSオブジェクト)の読み書きと同じく**Key-Value型**で保存されます。"
   ]
  },
  {
   "cell_type": "markdown",
   "metadata": {},
   "source": [
    "Web Storageには、**localStorage** と **sessionStorage** があります。\n",
    "\n",
    "||スコープ|データ容量|有効期限|\n",
    "|:--|:--:|:--:|:--:|\n",
    "|localStorage|同一オリジン|5MB / 1オリジン|期限なし（コードから削除が必要）|\n",
    "|sessionStorage|同一オリジンかつ同一ウィンドウ/タブ|5MB / 1オリジン|ウィンドウ/タブを閉じるまで|"
   ]
  },
  {
   "cell_type": "markdown",
   "metadata": {},
   "source": [
    "**オリジン**というのは、**スキーム**、**ホスト**、**ポート番号**のセットのことを指します。`http://example.jp:80/foo.html`というアドレスであれば、`http://example.jp:80/`がオリジンにあたり、`http`はスキーム、`example.jp`はホスト、`80`はポート番号と呼ばれます。"
   ]
  },
  {
   "cell_type": "markdown",
   "metadata": {},
   "source": [
    "本資料では、Web StorageのlocalStorageを使っていきます。localStorageの構文は以下のとおりです。"
   ]
  },
  {
   "cell_type": "markdown",
   "metadata": {},
   "source": [
    "**localStorageに値を保存する**\n",
    "\n",
    "```javascript\n",
    "// グローバルなオブジェクトに、countが追加されるイメージ。\n",
    "// {count: 1234}\n",
    "localStorage.setItem(\"count\", 1234);\n",
    "```"
   ]
  },
  {
   "cell_type": "markdown",
   "metadata": {},
   "source": [
    "**localStorageから値を取得する**\n",
    "\n",
    "```javascript\n",
    "// グローバルなオブジェクトからcountを取得するイメージ\n",
    "// {count: 1234}.count\n",
    "var value = localStorage.getItem(\"count\", 1234);\n",
    "```"
   ]
  },
  {
   "cell_type": "markdown",
   "metadata": {},
   "source": [
    "**localStorageの情報をクリアする**\n",
    "\n",
    "```javascript\n",
    "localStorage.clear();\n",
    "```"
   ]
  },
  {
   "cell_type": "markdown",
   "metadata": {},
   "source": [
    "## §5のチェックポイント\n",
    "\n",
    "- Web Storageには、どのようなデータの形式で保存されるか。\n",
    "- localStorageのスコープを答えよ。"
   ]
  },
  {
   "cell_type": "markdown",
   "metadata": {},
   "source": [
    "## 演習5\n",
    "\n",
    "localStorageを使用して、ブラウザを開いた回数表示するカウンタを作れ。初期値は1で、ブラウザを更新するたびに1ずつ増えるものとする。HTMLファイルは以下のものを利用してよい。HTMLファイルは *ex5.html* とし、JavaScriptファイルは *ex5.js* として提出せよ。"
   ]
  },
  {
   "cell_type": "markdown",
   "metadata": {},
   "source": [
    "~ブラウザ3回更新した例~\n",
    "\n",
    "![ブラウザを3回更新したときの表示](https://github.com/SCCP2016/botter-introduction/blob/master/img/chapter5/ex5html.png?raw=true ブラウザを3回更新したときの表示)"
   ]
  }
 ],
 "metadata": {
  "kernelspec": {
   "display_name": "NodeJS",
   "language": "javascript",
   "name": "nodejs"
  },
  "language_info": {
   "codemirror_mode": "javascript",
   "file_extension": "js",
   "mimetype": "text/javascript",
   "name": "nodejs",
   "pygments_lexer": "javascript",
   "version": "0.10"
  }
 },
 "nbformat": 4,
 "nbformat_minor": 0
}
